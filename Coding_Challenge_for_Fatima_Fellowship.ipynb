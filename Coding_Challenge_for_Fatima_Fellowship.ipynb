{
  "nbformat": 4,
  "nbformat_minor": 0,
  "metadata": {
    "colab": {
      "name": "Coding_Challenge_for_Fatima_Fellowship.ipynb",
      "provenance": [],
      "collapsed_sections": [
        "n2PpI875Vfun",
        "MUPl0alKeeor",
        "S1xtKuggTmdf",
        "8vy6CdPFjgPL",
        "1tKd1HHwkeeg",
        "3OJ9VQzYnMui",
        "mp8LNsBtf2d2",
        "JDFEVdREf5QC",
        "yE0cmADnhaHI"
      ],
      "include_colab_link": true
    },
    "kernelspec": {
      "name": "python3",
      "display_name": "Python 3"
    },
    "accelerator": "GPU",
    "widgets": {
      "application/vnd.jupyter.widget-state+json": {
        "2e0c82fe09da427690160f445b5998c3": {
          "model_module": "@jupyter-widgets/controls",
          "model_name": "HBoxModel",
          "model_module_version": "1.5.0",
          "state": {
            "_dom_classes": [],
            "_model_module": "@jupyter-widgets/controls",
            "_model_module_version": "1.5.0",
            "_model_name": "HBoxModel",
            "_view_count": null,
            "_view_module": "@jupyter-widgets/controls",
            "_view_module_version": "1.5.0",
            "_view_name": "HBoxView",
            "box_style": "",
            "children": [
              "IPY_MODEL_8fe241e2c76e42d9a6410e1b536c1dd5",
              "IPY_MODEL_49191fc9f40c41ed959e93911313bae0",
              "IPY_MODEL_5b66c5a84dec45348123c1f3601ad6a0"
            ],
            "layout": "IPY_MODEL_5502aa241ba0437d813975984a966de5"
          }
        },
        "8fe241e2c76e42d9a6410e1b536c1dd5": {
          "model_module": "@jupyter-widgets/controls",
          "model_name": "HTMLModel",
          "model_module_version": "1.5.0",
          "state": {
            "_dom_classes": [],
            "_model_module": "@jupyter-widgets/controls",
            "_model_module_version": "1.5.0",
            "_model_name": "HTMLModel",
            "_view_count": null,
            "_view_module": "@jupyter-widgets/controls",
            "_view_module_version": "1.5.0",
            "_view_name": "HTMLView",
            "description": "",
            "description_tooltip": null,
            "layout": "IPY_MODEL_351f613472aa4964a48d84b0bd5f96ba",
            "placeholder": "​",
            "style": "IPY_MODEL_1fc99313fd504ead85d4f33baf1815c0",
            "value": "Downloading: 100%"
          }
        },
        "49191fc9f40c41ed959e93911313bae0": {
          "model_module": "@jupyter-widgets/controls",
          "model_name": "FloatProgressModel",
          "model_module_version": "1.5.0",
          "state": {
            "_dom_classes": [],
            "_model_module": "@jupyter-widgets/controls",
            "_model_module_version": "1.5.0",
            "_model_name": "FloatProgressModel",
            "_view_count": null,
            "_view_module": "@jupyter-widgets/controls",
            "_view_module_version": "1.5.0",
            "_view_name": "ProgressView",
            "bar_style": "success",
            "description": "",
            "description_tooltip": null,
            "layout": "IPY_MODEL_30860d52617a43e09e06714893d90d4d",
            "max": 28,
            "min": 0,
            "orientation": "horizontal",
            "style": "IPY_MODEL_749ddfaa17a34a279fb9781c50618dc9",
            "value": 28
          }
        },
        "5b66c5a84dec45348123c1f3601ad6a0": {
          "model_module": "@jupyter-widgets/controls",
          "model_name": "HTMLModel",
          "model_module_version": "1.5.0",
          "state": {
            "_dom_classes": [],
            "_model_module": "@jupyter-widgets/controls",
            "_model_module_version": "1.5.0",
            "_model_name": "HTMLModel",
            "_view_count": null,
            "_view_module": "@jupyter-widgets/controls",
            "_view_module_version": "1.5.0",
            "_view_name": "HTMLView",
            "description": "",
            "description_tooltip": null,
            "layout": "IPY_MODEL_646131fa7e414f9ea9ec2f0d6717cd3b",
            "placeholder": "​",
            "style": "IPY_MODEL_35d0eda4eaa540a6824e72e1c1fb520c",
            "value": " 28.0/28.0 [00:00&lt;00:00, 189B/s]"
          }
        },
        "5502aa241ba0437d813975984a966de5": {
          "model_module": "@jupyter-widgets/base",
          "model_name": "LayoutModel",
          "model_module_version": "1.2.0",
          "state": {
            "_model_module": "@jupyter-widgets/base",
            "_model_module_version": "1.2.0",
            "_model_name": "LayoutModel",
            "_view_count": null,
            "_view_module": "@jupyter-widgets/base",
            "_view_module_version": "1.2.0",
            "_view_name": "LayoutView",
            "align_content": null,
            "align_items": null,
            "align_self": null,
            "border": null,
            "bottom": null,
            "display": null,
            "flex": null,
            "flex_flow": null,
            "grid_area": null,
            "grid_auto_columns": null,
            "grid_auto_flow": null,
            "grid_auto_rows": null,
            "grid_column": null,
            "grid_gap": null,
            "grid_row": null,
            "grid_template_areas": null,
            "grid_template_columns": null,
            "grid_template_rows": null,
            "height": null,
            "justify_content": null,
            "justify_items": null,
            "left": null,
            "margin": null,
            "max_height": null,
            "max_width": null,
            "min_height": null,
            "min_width": null,
            "object_fit": null,
            "object_position": null,
            "order": null,
            "overflow": null,
            "overflow_x": null,
            "overflow_y": null,
            "padding": null,
            "right": null,
            "top": null,
            "visibility": null,
            "width": null
          }
        },
        "351f613472aa4964a48d84b0bd5f96ba": {
          "model_module": "@jupyter-widgets/base",
          "model_name": "LayoutModel",
          "model_module_version": "1.2.0",
          "state": {
            "_model_module": "@jupyter-widgets/base",
            "_model_module_version": "1.2.0",
            "_model_name": "LayoutModel",
            "_view_count": null,
            "_view_module": "@jupyter-widgets/base",
            "_view_module_version": "1.2.0",
            "_view_name": "LayoutView",
            "align_content": null,
            "align_items": null,
            "align_self": null,
            "border": null,
            "bottom": null,
            "display": null,
            "flex": null,
            "flex_flow": null,
            "grid_area": null,
            "grid_auto_columns": null,
            "grid_auto_flow": null,
            "grid_auto_rows": null,
            "grid_column": null,
            "grid_gap": null,
            "grid_row": null,
            "grid_template_areas": null,
            "grid_template_columns": null,
            "grid_template_rows": null,
            "height": null,
            "justify_content": null,
            "justify_items": null,
            "left": null,
            "margin": null,
            "max_height": null,
            "max_width": null,
            "min_height": null,
            "min_width": null,
            "object_fit": null,
            "object_position": null,
            "order": null,
            "overflow": null,
            "overflow_x": null,
            "overflow_y": null,
            "padding": null,
            "right": null,
            "top": null,
            "visibility": null,
            "width": null
          }
        },
        "1fc99313fd504ead85d4f33baf1815c0": {
          "model_module": "@jupyter-widgets/controls",
          "model_name": "DescriptionStyleModel",
          "model_module_version": "1.5.0",
          "state": {
            "_model_module": "@jupyter-widgets/controls",
            "_model_module_version": "1.5.0",
            "_model_name": "DescriptionStyleModel",
            "_view_count": null,
            "_view_module": "@jupyter-widgets/base",
            "_view_module_version": "1.2.0",
            "_view_name": "StyleView",
            "description_width": ""
          }
        },
        "30860d52617a43e09e06714893d90d4d": {
          "model_module": "@jupyter-widgets/base",
          "model_name": "LayoutModel",
          "model_module_version": "1.2.0",
          "state": {
            "_model_module": "@jupyter-widgets/base",
            "_model_module_version": "1.2.0",
            "_model_name": "LayoutModel",
            "_view_count": null,
            "_view_module": "@jupyter-widgets/base",
            "_view_module_version": "1.2.0",
            "_view_name": "LayoutView",
            "align_content": null,
            "align_items": null,
            "align_self": null,
            "border": null,
            "bottom": null,
            "display": null,
            "flex": null,
            "flex_flow": null,
            "grid_area": null,
            "grid_auto_columns": null,
            "grid_auto_flow": null,
            "grid_auto_rows": null,
            "grid_column": null,
            "grid_gap": null,
            "grid_row": null,
            "grid_template_areas": null,
            "grid_template_columns": null,
            "grid_template_rows": null,
            "height": null,
            "justify_content": null,
            "justify_items": null,
            "left": null,
            "margin": null,
            "max_height": null,
            "max_width": null,
            "min_height": null,
            "min_width": null,
            "object_fit": null,
            "object_position": null,
            "order": null,
            "overflow": null,
            "overflow_x": null,
            "overflow_y": null,
            "padding": null,
            "right": null,
            "top": null,
            "visibility": null,
            "width": null
          }
        },
        "749ddfaa17a34a279fb9781c50618dc9": {
          "model_module": "@jupyter-widgets/controls",
          "model_name": "ProgressStyleModel",
          "model_module_version": "1.5.0",
          "state": {
            "_model_module": "@jupyter-widgets/controls",
            "_model_module_version": "1.5.0",
            "_model_name": "ProgressStyleModel",
            "_view_count": null,
            "_view_module": "@jupyter-widgets/base",
            "_view_module_version": "1.2.0",
            "_view_name": "StyleView",
            "bar_color": null,
            "description_width": ""
          }
        },
        "646131fa7e414f9ea9ec2f0d6717cd3b": {
          "model_module": "@jupyter-widgets/base",
          "model_name": "LayoutModel",
          "model_module_version": "1.2.0",
          "state": {
            "_model_module": "@jupyter-widgets/base",
            "_model_module_version": "1.2.0",
            "_model_name": "LayoutModel",
            "_view_count": null,
            "_view_module": "@jupyter-widgets/base",
            "_view_module_version": "1.2.0",
            "_view_name": "LayoutView",
            "align_content": null,
            "align_items": null,
            "align_self": null,
            "border": null,
            "bottom": null,
            "display": null,
            "flex": null,
            "flex_flow": null,
            "grid_area": null,
            "grid_auto_columns": null,
            "grid_auto_flow": null,
            "grid_auto_rows": null,
            "grid_column": null,
            "grid_gap": null,
            "grid_row": null,
            "grid_template_areas": null,
            "grid_template_columns": null,
            "grid_template_rows": null,
            "height": null,
            "justify_content": null,
            "justify_items": null,
            "left": null,
            "margin": null,
            "max_height": null,
            "max_width": null,
            "min_height": null,
            "min_width": null,
            "object_fit": null,
            "object_position": null,
            "order": null,
            "overflow": null,
            "overflow_x": null,
            "overflow_y": null,
            "padding": null,
            "right": null,
            "top": null,
            "visibility": null,
            "width": null
          }
        },
        "35d0eda4eaa540a6824e72e1c1fb520c": {
          "model_module": "@jupyter-widgets/controls",
          "model_name": "DescriptionStyleModel",
          "model_module_version": "1.5.0",
          "state": {
            "_model_module": "@jupyter-widgets/controls",
            "_model_module_version": "1.5.0",
            "_model_name": "DescriptionStyleModel",
            "_view_count": null,
            "_view_module": "@jupyter-widgets/base",
            "_view_module_version": "1.2.0",
            "_view_name": "StyleView",
            "description_width": ""
          }
        },
        "57bffac0a09a4d54b740d975080b99af": {
          "model_module": "@jupyter-widgets/controls",
          "model_name": "HBoxModel",
          "model_module_version": "1.5.0",
          "state": {
            "_dom_classes": [],
            "_model_module": "@jupyter-widgets/controls",
            "_model_module_version": "1.5.0",
            "_model_name": "HBoxModel",
            "_view_count": null,
            "_view_module": "@jupyter-widgets/controls",
            "_view_module_version": "1.5.0",
            "_view_name": "HBoxView",
            "box_style": "",
            "children": [
              "IPY_MODEL_b39eea56e8f342dba71625e46261397a",
              "IPY_MODEL_5c08fcde26314f089d20b30c0b07aec8",
              "IPY_MODEL_9fa7ea3450ea47feb33820dc725248d7"
            ],
            "layout": "IPY_MODEL_639673eb0bb04cca84a0e9a204f10f8f"
          }
        },
        "b39eea56e8f342dba71625e46261397a": {
          "model_module": "@jupyter-widgets/controls",
          "model_name": "HTMLModel",
          "model_module_version": "1.5.0",
          "state": {
            "_dom_classes": [],
            "_model_module": "@jupyter-widgets/controls",
            "_model_module_version": "1.5.0",
            "_model_name": "HTMLModel",
            "_view_count": null,
            "_view_module": "@jupyter-widgets/controls",
            "_view_module_version": "1.5.0",
            "_view_name": "HTMLView",
            "description": "",
            "description_tooltip": null,
            "layout": "IPY_MODEL_ace4be080c3d4b67ba30c8b6dde6c3cb",
            "placeholder": "​",
            "style": "IPY_MODEL_35bca292900a4e0a9cb52eecd23e39e7",
            "value": "Downloading: 100%"
          }
        },
        "5c08fcde26314f089d20b30c0b07aec8": {
          "model_module": "@jupyter-widgets/controls",
          "model_name": "FloatProgressModel",
          "model_module_version": "1.5.0",
          "state": {
            "_dom_classes": [],
            "_model_module": "@jupyter-widgets/controls",
            "_model_module_version": "1.5.0",
            "_model_name": "FloatProgressModel",
            "_view_count": null,
            "_view_module": "@jupyter-widgets/controls",
            "_view_module_version": "1.5.0",
            "_view_name": "ProgressView",
            "bar_style": "success",
            "description": "",
            "description_tooltip": null,
            "layout": "IPY_MODEL_3a098bfcf21e40bf811911aa0b82e947",
            "max": 570,
            "min": 0,
            "orientation": "horizontal",
            "style": "IPY_MODEL_ec2c2c50c7aa4a0fb08d2cf95e4e31fe",
            "value": 570
          }
        },
        "9fa7ea3450ea47feb33820dc725248d7": {
          "model_module": "@jupyter-widgets/controls",
          "model_name": "HTMLModel",
          "model_module_version": "1.5.0",
          "state": {
            "_dom_classes": [],
            "_model_module": "@jupyter-widgets/controls",
            "_model_module_version": "1.5.0",
            "_model_name": "HTMLModel",
            "_view_count": null,
            "_view_module": "@jupyter-widgets/controls",
            "_view_module_version": "1.5.0",
            "_view_name": "HTMLView",
            "description": "",
            "description_tooltip": null,
            "layout": "IPY_MODEL_663c2ef8b2f046149daf9ac60feca9c7",
            "placeholder": "​",
            "style": "IPY_MODEL_2ca4232873fb47b9b10fc894373e3d0a",
            "value": " 570/570 [00:00&lt;00:00, 3.72kB/s]"
          }
        },
        "639673eb0bb04cca84a0e9a204f10f8f": {
          "model_module": "@jupyter-widgets/base",
          "model_name": "LayoutModel",
          "model_module_version": "1.2.0",
          "state": {
            "_model_module": "@jupyter-widgets/base",
            "_model_module_version": "1.2.0",
            "_model_name": "LayoutModel",
            "_view_count": null,
            "_view_module": "@jupyter-widgets/base",
            "_view_module_version": "1.2.0",
            "_view_name": "LayoutView",
            "align_content": null,
            "align_items": null,
            "align_self": null,
            "border": null,
            "bottom": null,
            "display": null,
            "flex": null,
            "flex_flow": null,
            "grid_area": null,
            "grid_auto_columns": null,
            "grid_auto_flow": null,
            "grid_auto_rows": null,
            "grid_column": null,
            "grid_gap": null,
            "grid_row": null,
            "grid_template_areas": null,
            "grid_template_columns": null,
            "grid_template_rows": null,
            "height": null,
            "justify_content": null,
            "justify_items": null,
            "left": null,
            "margin": null,
            "max_height": null,
            "max_width": null,
            "min_height": null,
            "min_width": null,
            "object_fit": null,
            "object_position": null,
            "order": null,
            "overflow": null,
            "overflow_x": null,
            "overflow_y": null,
            "padding": null,
            "right": null,
            "top": null,
            "visibility": null,
            "width": null
          }
        },
        "ace4be080c3d4b67ba30c8b6dde6c3cb": {
          "model_module": "@jupyter-widgets/base",
          "model_name": "LayoutModel",
          "model_module_version": "1.2.0",
          "state": {
            "_model_module": "@jupyter-widgets/base",
            "_model_module_version": "1.2.0",
            "_model_name": "LayoutModel",
            "_view_count": null,
            "_view_module": "@jupyter-widgets/base",
            "_view_module_version": "1.2.0",
            "_view_name": "LayoutView",
            "align_content": null,
            "align_items": null,
            "align_self": null,
            "border": null,
            "bottom": null,
            "display": null,
            "flex": null,
            "flex_flow": null,
            "grid_area": null,
            "grid_auto_columns": null,
            "grid_auto_flow": null,
            "grid_auto_rows": null,
            "grid_column": null,
            "grid_gap": null,
            "grid_row": null,
            "grid_template_areas": null,
            "grid_template_columns": null,
            "grid_template_rows": null,
            "height": null,
            "justify_content": null,
            "justify_items": null,
            "left": null,
            "margin": null,
            "max_height": null,
            "max_width": null,
            "min_height": null,
            "min_width": null,
            "object_fit": null,
            "object_position": null,
            "order": null,
            "overflow": null,
            "overflow_x": null,
            "overflow_y": null,
            "padding": null,
            "right": null,
            "top": null,
            "visibility": null,
            "width": null
          }
        },
        "35bca292900a4e0a9cb52eecd23e39e7": {
          "model_module": "@jupyter-widgets/controls",
          "model_name": "DescriptionStyleModel",
          "model_module_version": "1.5.0",
          "state": {
            "_model_module": "@jupyter-widgets/controls",
            "_model_module_version": "1.5.0",
            "_model_name": "DescriptionStyleModel",
            "_view_count": null,
            "_view_module": "@jupyter-widgets/base",
            "_view_module_version": "1.2.0",
            "_view_name": "StyleView",
            "description_width": ""
          }
        },
        "3a098bfcf21e40bf811911aa0b82e947": {
          "model_module": "@jupyter-widgets/base",
          "model_name": "LayoutModel",
          "model_module_version": "1.2.0",
          "state": {
            "_model_module": "@jupyter-widgets/base",
            "_model_module_version": "1.2.0",
            "_model_name": "LayoutModel",
            "_view_count": null,
            "_view_module": "@jupyter-widgets/base",
            "_view_module_version": "1.2.0",
            "_view_name": "LayoutView",
            "align_content": null,
            "align_items": null,
            "align_self": null,
            "border": null,
            "bottom": null,
            "display": null,
            "flex": null,
            "flex_flow": null,
            "grid_area": null,
            "grid_auto_columns": null,
            "grid_auto_flow": null,
            "grid_auto_rows": null,
            "grid_column": null,
            "grid_gap": null,
            "grid_row": null,
            "grid_template_areas": null,
            "grid_template_columns": null,
            "grid_template_rows": null,
            "height": null,
            "justify_content": null,
            "justify_items": null,
            "left": null,
            "margin": null,
            "max_height": null,
            "max_width": null,
            "min_height": null,
            "min_width": null,
            "object_fit": null,
            "object_position": null,
            "order": null,
            "overflow": null,
            "overflow_x": null,
            "overflow_y": null,
            "padding": null,
            "right": null,
            "top": null,
            "visibility": null,
            "width": null
          }
        },
        "ec2c2c50c7aa4a0fb08d2cf95e4e31fe": {
          "model_module": "@jupyter-widgets/controls",
          "model_name": "ProgressStyleModel",
          "model_module_version": "1.5.0",
          "state": {
            "_model_module": "@jupyter-widgets/controls",
            "_model_module_version": "1.5.0",
            "_model_name": "ProgressStyleModel",
            "_view_count": null,
            "_view_module": "@jupyter-widgets/base",
            "_view_module_version": "1.2.0",
            "_view_name": "StyleView",
            "bar_color": null,
            "description_width": ""
          }
        },
        "663c2ef8b2f046149daf9ac60feca9c7": {
          "model_module": "@jupyter-widgets/base",
          "model_name": "LayoutModel",
          "model_module_version": "1.2.0",
          "state": {
            "_model_module": "@jupyter-widgets/base",
            "_model_module_version": "1.2.0",
            "_model_name": "LayoutModel",
            "_view_count": null,
            "_view_module": "@jupyter-widgets/base",
            "_view_module_version": "1.2.0",
            "_view_name": "LayoutView",
            "align_content": null,
            "align_items": null,
            "align_self": null,
            "border": null,
            "bottom": null,
            "display": null,
            "flex": null,
            "flex_flow": null,
            "grid_area": null,
            "grid_auto_columns": null,
            "grid_auto_flow": null,
            "grid_auto_rows": null,
            "grid_column": null,
            "grid_gap": null,
            "grid_row": null,
            "grid_template_areas": null,
            "grid_template_columns": null,
            "grid_template_rows": null,
            "height": null,
            "justify_content": null,
            "justify_items": null,
            "left": null,
            "margin": null,
            "max_height": null,
            "max_width": null,
            "min_height": null,
            "min_width": null,
            "object_fit": null,
            "object_position": null,
            "order": null,
            "overflow": null,
            "overflow_x": null,
            "overflow_y": null,
            "padding": null,
            "right": null,
            "top": null,
            "visibility": null,
            "width": null
          }
        },
        "2ca4232873fb47b9b10fc894373e3d0a": {
          "model_module": "@jupyter-widgets/controls",
          "model_name": "DescriptionStyleModel",
          "model_module_version": "1.5.0",
          "state": {
            "_model_module": "@jupyter-widgets/controls",
            "_model_module_version": "1.5.0",
            "_model_name": "DescriptionStyleModel",
            "_view_count": null,
            "_view_module": "@jupyter-widgets/base",
            "_view_module_version": "1.2.0",
            "_view_name": "StyleView",
            "description_width": ""
          }
        },
        "293de09f6ff14b78b182da3155e504eb": {
          "model_module": "@jupyter-widgets/controls",
          "model_name": "HBoxModel",
          "model_module_version": "1.5.0",
          "state": {
            "_dom_classes": [],
            "_model_module": "@jupyter-widgets/controls",
            "_model_module_version": "1.5.0",
            "_model_name": "HBoxModel",
            "_view_count": null,
            "_view_module": "@jupyter-widgets/controls",
            "_view_module_version": "1.5.0",
            "_view_name": "HBoxView",
            "box_style": "",
            "children": [
              "IPY_MODEL_b27ab3e6cf4d488192d814bce014b379",
              "IPY_MODEL_4c2e37ed6afd45538b16ff73e95f6447",
              "IPY_MODEL_9d07929be146432f80338d00e88b56f7"
            ],
            "layout": "IPY_MODEL_7fdcacac9a3f4e71b60a80035e3cb70e"
          }
        },
        "b27ab3e6cf4d488192d814bce014b379": {
          "model_module": "@jupyter-widgets/controls",
          "model_name": "HTMLModel",
          "model_module_version": "1.5.0",
          "state": {
            "_dom_classes": [],
            "_model_module": "@jupyter-widgets/controls",
            "_model_module_version": "1.5.0",
            "_model_name": "HTMLModel",
            "_view_count": null,
            "_view_module": "@jupyter-widgets/controls",
            "_view_module_version": "1.5.0",
            "_view_name": "HTMLView",
            "description": "",
            "description_tooltip": null,
            "layout": "IPY_MODEL_2ecf15087ce548649c758cbcfa182ea8",
            "placeholder": "​",
            "style": "IPY_MODEL_d5e7a4105d694ec0a91338066428a31f",
            "value": "Downloading: 100%"
          }
        },
        "4c2e37ed6afd45538b16ff73e95f6447": {
          "model_module": "@jupyter-widgets/controls",
          "model_name": "FloatProgressModel",
          "model_module_version": "1.5.0",
          "state": {
            "_dom_classes": [],
            "_model_module": "@jupyter-widgets/controls",
            "_model_module_version": "1.5.0",
            "_model_name": "FloatProgressModel",
            "_view_count": null,
            "_view_module": "@jupyter-widgets/controls",
            "_view_module_version": "1.5.0",
            "_view_name": "ProgressView",
            "bar_style": "success",
            "description": "",
            "description_tooltip": null,
            "layout": "IPY_MODEL_84b8ab2a83364f28b689b48f776bc24f",
            "max": 231508,
            "min": 0,
            "orientation": "horizontal",
            "style": "IPY_MODEL_18d05ff0d10a4f099c86fa9e9f9eaef7",
            "value": 231508
          }
        },
        "9d07929be146432f80338d00e88b56f7": {
          "model_module": "@jupyter-widgets/controls",
          "model_name": "HTMLModel",
          "model_module_version": "1.5.0",
          "state": {
            "_dom_classes": [],
            "_model_module": "@jupyter-widgets/controls",
            "_model_module_version": "1.5.0",
            "_model_name": "HTMLModel",
            "_view_count": null,
            "_view_module": "@jupyter-widgets/controls",
            "_view_module_version": "1.5.0",
            "_view_name": "HTMLView",
            "description": "",
            "description_tooltip": null,
            "layout": "IPY_MODEL_0642d0e1bf0d402ca656bac512310ee6",
            "placeholder": "​",
            "style": "IPY_MODEL_3bd188cf4d40473f8e67cd79ddb28db5",
            "value": " 226k/226k [00:00&lt;00:00, 440kB/s]"
          }
        },
        "7fdcacac9a3f4e71b60a80035e3cb70e": {
          "model_module": "@jupyter-widgets/base",
          "model_name": "LayoutModel",
          "model_module_version": "1.2.0",
          "state": {
            "_model_module": "@jupyter-widgets/base",
            "_model_module_version": "1.2.0",
            "_model_name": "LayoutModel",
            "_view_count": null,
            "_view_module": "@jupyter-widgets/base",
            "_view_module_version": "1.2.0",
            "_view_name": "LayoutView",
            "align_content": null,
            "align_items": null,
            "align_self": null,
            "border": null,
            "bottom": null,
            "display": null,
            "flex": null,
            "flex_flow": null,
            "grid_area": null,
            "grid_auto_columns": null,
            "grid_auto_flow": null,
            "grid_auto_rows": null,
            "grid_column": null,
            "grid_gap": null,
            "grid_row": null,
            "grid_template_areas": null,
            "grid_template_columns": null,
            "grid_template_rows": null,
            "height": null,
            "justify_content": null,
            "justify_items": null,
            "left": null,
            "margin": null,
            "max_height": null,
            "max_width": null,
            "min_height": null,
            "min_width": null,
            "object_fit": null,
            "object_position": null,
            "order": null,
            "overflow": null,
            "overflow_x": null,
            "overflow_y": null,
            "padding": null,
            "right": null,
            "top": null,
            "visibility": null,
            "width": null
          }
        },
        "2ecf15087ce548649c758cbcfa182ea8": {
          "model_module": "@jupyter-widgets/base",
          "model_name": "LayoutModel",
          "model_module_version": "1.2.0",
          "state": {
            "_model_module": "@jupyter-widgets/base",
            "_model_module_version": "1.2.0",
            "_model_name": "LayoutModel",
            "_view_count": null,
            "_view_module": "@jupyter-widgets/base",
            "_view_module_version": "1.2.0",
            "_view_name": "LayoutView",
            "align_content": null,
            "align_items": null,
            "align_self": null,
            "border": null,
            "bottom": null,
            "display": null,
            "flex": null,
            "flex_flow": null,
            "grid_area": null,
            "grid_auto_columns": null,
            "grid_auto_flow": null,
            "grid_auto_rows": null,
            "grid_column": null,
            "grid_gap": null,
            "grid_row": null,
            "grid_template_areas": null,
            "grid_template_columns": null,
            "grid_template_rows": null,
            "height": null,
            "justify_content": null,
            "justify_items": null,
            "left": null,
            "margin": null,
            "max_height": null,
            "max_width": null,
            "min_height": null,
            "min_width": null,
            "object_fit": null,
            "object_position": null,
            "order": null,
            "overflow": null,
            "overflow_x": null,
            "overflow_y": null,
            "padding": null,
            "right": null,
            "top": null,
            "visibility": null,
            "width": null
          }
        },
        "d5e7a4105d694ec0a91338066428a31f": {
          "model_module": "@jupyter-widgets/controls",
          "model_name": "DescriptionStyleModel",
          "model_module_version": "1.5.0",
          "state": {
            "_model_module": "@jupyter-widgets/controls",
            "_model_module_version": "1.5.0",
            "_model_name": "DescriptionStyleModel",
            "_view_count": null,
            "_view_module": "@jupyter-widgets/base",
            "_view_module_version": "1.2.0",
            "_view_name": "StyleView",
            "description_width": ""
          }
        },
        "84b8ab2a83364f28b689b48f776bc24f": {
          "model_module": "@jupyter-widgets/base",
          "model_name": "LayoutModel",
          "model_module_version": "1.2.0",
          "state": {
            "_model_module": "@jupyter-widgets/base",
            "_model_module_version": "1.2.0",
            "_model_name": "LayoutModel",
            "_view_count": null,
            "_view_module": "@jupyter-widgets/base",
            "_view_module_version": "1.2.0",
            "_view_name": "LayoutView",
            "align_content": null,
            "align_items": null,
            "align_self": null,
            "border": null,
            "bottom": null,
            "display": null,
            "flex": null,
            "flex_flow": null,
            "grid_area": null,
            "grid_auto_columns": null,
            "grid_auto_flow": null,
            "grid_auto_rows": null,
            "grid_column": null,
            "grid_gap": null,
            "grid_row": null,
            "grid_template_areas": null,
            "grid_template_columns": null,
            "grid_template_rows": null,
            "height": null,
            "justify_content": null,
            "justify_items": null,
            "left": null,
            "margin": null,
            "max_height": null,
            "max_width": null,
            "min_height": null,
            "min_width": null,
            "object_fit": null,
            "object_position": null,
            "order": null,
            "overflow": null,
            "overflow_x": null,
            "overflow_y": null,
            "padding": null,
            "right": null,
            "top": null,
            "visibility": null,
            "width": null
          }
        },
        "18d05ff0d10a4f099c86fa9e9f9eaef7": {
          "model_module": "@jupyter-widgets/controls",
          "model_name": "ProgressStyleModel",
          "model_module_version": "1.5.0",
          "state": {
            "_model_module": "@jupyter-widgets/controls",
            "_model_module_version": "1.5.0",
            "_model_name": "ProgressStyleModel",
            "_view_count": null,
            "_view_module": "@jupyter-widgets/base",
            "_view_module_version": "1.2.0",
            "_view_name": "StyleView",
            "bar_color": null,
            "description_width": ""
          }
        },
        "0642d0e1bf0d402ca656bac512310ee6": {
          "model_module": "@jupyter-widgets/base",
          "model_name": "LayoutModel",
          "model_module_version": "1.2.0",
          "state": {
            "_model_module": "@jupyter-widgets/base",
            "_model_module_version": "1.2.0",
            "_model_name": "LayoutModel",
            "_view_count": null,
            "_view_module": "@jupyter-widgets/base",
            "_view_module_version": "1.2.0",
            "_view_name": "LayoutView",
            "align_content": null,
            "align_items": null,
            "align_self": null,
            "border": null,
            "bottom": null,
            "display": null,
            "flex": null,
            "flex_flow": null,
            "grid_area": null,
            "grid_auto_columns": null,
            "grid_auto_flow": null,
            "grid_auto_rows": null,
            "grid_column": null,
            "grid_gap": null,
            "grid_row": null,
            "grid_template_areas": null,
            "grid_template_columns": null,
            "grid_template_rows": null,
            "height": null,
            "justify_content": null,
            "justify_items": null,
            "left": null,
            "margin": null,
            "max_height": null,
            "max_width": null,
            "min_height": null,
            "min_width": null,
            "object_fit": null,
            "object_position": null,
            "order": null,
            "overflow": null,
            "overflow_x": null,
            "overflow_y": null,
            "padding": null,
            "right": null,
            "top": null,
            "visibility": null,
            "width": null
          }
        },
        "3bd188cf4d40473f8e67cd79ddb28db5": {
          "model_module": "@jupyter-widgets/controls",
          "model_name": "DescriptionStyleModel",
          "model_module_version": "1.5.0",
          "state": {
            "_model_module": "@jupyter-widgets/controls",
            "_model_module_version": "1.5.0",
            "_model_name": "DescriptionStyleModel",
            "_view_count": null,
            "_view_module": "@jupyter-widgets/base",
            "_view_module_version": "1.2.0",
            "_view_name": "StyleView",
            "description_width": ""
          }
        },
        "d18068bfc4444b39abbe809685c27f22": {
          "model_module": "@jupyter-widgets/controls",
          "model_name": "HBoxModel",
          "model_module_version": "1.5.0",
          "state": {
            "_dom_classes": [],
            "_model_module": "@jupyter-widgets/controls",
            "_model_module_version": "1.5.0",
            "_model_name": "HBoxModel",
            "_view_count": null,
            "_view_module": "@jupyter-widgets/controls",
            "_view_module_version": "1.5.0",
            "_view_name": "HBoxView",
            "box_style": "",
            "children": [
              "IPY_MODEL_e5bf61c015e348d3999b1a6e3ceba8d7",
              "IPY_MODEL_f3d790ce5e314ccaa61a6b29ffb7d670",
              "IPY_MODEL_4340c0d9f2b140ae9c82f80f99346eee"
            ],
            "layout": "IPY_MODEL_77f7cf71c6c44f87a46f2a1ae577098b"
          }
        },
        "e5bf61c015e348d3999b1a6e3ceba8d7": {
          "model_module": "@jupyter-widgets/controls",
          "model_name": "HTMLModel",
          "model_module_version": "1.5.0",
          "state": {
            "_dom_classes": [],
            "_model_module": "@jupyter-widgets/controls",
            "_model_module_version": "1.5.0",
            "_model_name": "HTMLModel",
            "_view_count": null,
            "_view_module": "@jupyter-widgets/controls",
            "_view_module_version": "1.5.0",
            "_view_name": "HTMLView",
            "description": "",
            "description_tooltip": null,
            "layout": "IPY_MODEL_7ba0f28991a94572b735ce3cf1e6f693",
            "placeholder": "​",
            "style": "IPY_MODEL_9b40b8e4eff0424e8022a30a49676088",
            "value": "Downloading: 100%"
          }
        },
        "f3d790ce5e314ccaa61a6b29ffb7d670": {
          "model_module": "@jupyter-widgets/controls",
          "model_name": "FloatProgressModel",
          "model_module_version": "1.5.0",
          "state": {
            "_dom_classes": [],
            "_model_module": "@jupyter-widgets/controls",
            "_model_module_version": "1.5.0",
            "_model_name": "FloatProgressModel",
            "_view_count": null,
            "_view_module": "@jupyter-widgets/controls",
            "_view_module_version": "1.5.0",
            "_view_name": "ProgressView",
            "bar_style": "success",
            "description": "",
            "description_tooltip": null,
            "layout": "IPY_MODEL_54d98dc6c6274b6f87a43c9108ec2086",
            "max": 466062,
            "min": 0,
            "orientation": "horizontal",
            "style": "IPY_MODEL_7aa37ab822b3437cb4e8c7509e030708",
            "value": 466062
          }
        },
        "4340c0d9f2b140ae9c82f80f99346eee": {
          "model_module": "@jupyter-widgets/controls",
          "model_name": "HTMLModel",
          "model_module_version": "1.5.0",
          "state": {
            "_dom_classes": [],
            "_model_module": "@jupyter-widgets/controls",
            "_model_module_version": "1.5.0",
            "_model_name": "HTMLModel",
            "_view_count": null,
            "_view_module": "@jupyter-widgets/controls",
            "_view_module_version": "1.5.0",
            "_view_name": "HTMLView",
            "description": "",
            "description_tooltip": null,
            "layout": "IPY_MODEL_89133adb5e6949bdbcccf660c2434684",
            "placeholder": "​",
            "style": "IPY_MODEL_b4dc36609512481abd0304d4d85f1da4",
            "value": " 455k/455k [00:00&lt;00:00, 742kB/s]"
          }
        },
        "77f7cf71c6c44f87a46f2a1ae577098b": {
          "model_module": "@jupyter-widgets/base",
          "model_name": "LayoutModel",
          "model_module_version": "1.2.0",
          "state": {
            "_model_module": "@jupyter-widgets/base",
            "_model_module_version": "1.2.0",
            "_model_name": "LayoutModel",
            "_view_count": null,
            "_view_module": "@jupyter-widgets/base",
            "_view_module_version": "1.2.0",
            "_view_name": "LayoutView",
            "align_content": null,
            "align_items": null,
            "align_self": null,
            "border": null,
            "bottom": null,
            "display": null,
            "flex": null,
            "flex_flow": null,
            "grid_area": null,
            "grid_auto_columns": null,
            "grid_auto_flow": null,
            "grid_auto_rows": null,
            "grid_column": null,
            "grid_gap": null,
            "grid_row": null,
            "grid_template_areas": null,
            "grid_template_columns": null,
            "grid_template_rows": null,
            "height": null,
            "justify_content": null,
            "justify_items": null,
            "left": null,
            "margin": null,
            "max_height": null,
            "max_width": null,
            "min_height": null,
            "min_width": null,
            "object_fit": null,
            "object_position": null,
            "order": null,
            "overflow": null,
            "overflow_x": null,
            "overflow_y": null,
            "padding": null,
            "right": null,
            "top": null,
            "visibility": null,
            "width": null
          }
        },
        "7ba0f28991a94572b735ce3cf1e6f693": {
          "model_module": "@jupyter-widgets/base",
          "model_name": "LayoutModel",
          "model_module_version": "1.2.0",
          "state": {
            "_model_module": "@jupyter-widgets/base",
            "_model_module_version": "1.2.0",
            "_model_name": "LayoutModel",
            "_view_count": null,
            "_view_module": "@jupyter-widgets/base",
            "_view_module_version": "1.2.0",
            "_view_name": "LayoutView",
            "align_content": null,
            "align_items": null,
            "align_self": null,
            "border": null,
            "bottom": null,
            "display": null,
            "flex": null,
            "flex_flow": null,
            "grid_area": null,
            "grid_auto_columns": null,
            "grid_auto_flow": null,
            "grid_auto_rows": null,
            "grid_column": null,
            "grid_gap": null,
            "grid_row": null,
            "grid_template_areas": null,
            "grid_template_columns": null,
            "grid_template_rows": null,
            "height": null,
            "justify_content": null,
            "justify_items": null,
            "left": null,
            "margin": null,
            "max_height": null,
            "max_width": null,
            "min_height": null,
            "min_width": null,
            "object_fit": null,
            "object_position": null,
            "order": null,
            "overflow": null,
            "overflow_x": null,
            "overflow_y": null,
            "padding": null,
            "right": null,
            "top": null,
            "visibility": null,
            "width": null
          }
        },
        "9b40b8e4eff0424e8022a30a49676088": {
          "model_module": "@jupyter-widgets/controls",
          "model_name": "DescriptionStyleModel",
          "model_module_version": "1.5.0",
          "state": {
            "_model_module": "@jupyter-widgets/controls",
            "_model_module_version": "1.5.0",
            "_model_name": "DescriptionStyleModel",
            "_view_count": null,
            "_view_module": "@jupyter-widgets/base",
            "_view_module_version": "1.2.0",
            "_view_name": "StyleView",
            "description_width": ""
          }
        },
        "54d98dc6c6274b6f87a43c9108ec2086": {
          "model_module": "@jupyter-widgets/base",
          "model_name": "LayoutModel",
          "model_module_version": "1.2.0",
          "state": {
            "_model_module": "@jupyter-widgets/base",
            "_model_module_version": "1.2.0",
            "_model_name": "LayoutModel",
            "_view_count": null,
            "_view_module": "@jupyter-widgets/base",
            "_view_module_version": "1.2.0",
            "_view_name": "LayoutView",
            "align_content": null,
            "align_items": null,
            "align_self": null,
            "border": null,
            "bottom": null,
            "display": null,
            "flex": null,
            "flex_flow": null,
            "grid_area": null,
            "grid_auto_columns": null,
            "grid_auto_flow": null,
            "grid_auto_rows": null,
            "grid_column": null,
            "grid_gap": null,
            "grid_row": null,
            "grid_template_areas": null,
            "grid_template_columns": null,
            "grid_template_rows": null,
            "height": null,
            "justify_content": null,
            "justify_items": null,
            "left": null,
            "margin": null,
            "max_height": null,
            "max_width": null,
            "min_height": null,
            "min_width": null,
            "object_fit": null,
            "object_position": null,
            "order": null,
            "overflow": null,
            "overflow_x": null,
            "overflow_y": null,
            "padding": null,
            "right": null,
            "top": null,
            "visibility": null,
            "width": null
          }
        },
        "7aa37ab822b3437cb4e8c7509e030708": {
          "model_module": "@jupyter-widgets/controls",
          "model_name": "ProgressStyleModel",
          "model_module_version": "1.5.0",
          "state": {
            "_model_module": "@jupyter-widgets/controls",
            "_model_module_version": "1.5.0",
            "_model_name": "ProgressStyleModel",
            "_view_count": null,
            "_view_module": "@jupyter-widgets/base",
            "_view_module_version": "1.2.0",
            "_view_name": "StyleView",
            "bar_color": null,
            "description_width": ""
          }
        },
        "89133adb5e6949bdbcccf660c2434684": {
          "model_module": "@jupyter-widgets/base",
          "model_name": "LayoutModel",
          "model_module_version": "1.2.0",
          "state": {
            "_model_module": "@jupyter-widgets/base",
            "_model_module_version": "1.2.0",
            "_model_name": "LayoutModel",
            "_view_count": null,
            "_view_module": "@jupyter-widgets/base",
            "_view_module_version": "1.2.0",
            "_view_name": "LayoutView",
            "align_content": null,
            "align_items": null,
            "align_self": null,
            "border": null,
            "bottom": null,
            "display": null,
            "flex": null,
            "flex_flow": null,
            "grid_area": null,
            "grid_auto_columns": null,
            "grid_auto_flow": null,
            "grid_auto_rows": null,
            "grid_column": null,
            "grid_gap": null,
            "grid_row": null,
            "grid_template_areas": null,
            "grid_template_columns": null,
            "grid_template_rows": null,
            "height": null,
            "justify_content": null,
            "justify_items": null,
            "left": null,
            "margin": null,
            "max_height": null,
            "max_width": null,
            "min_height": null,
            "min_width": null,
            "object_fit": null,
            "object_position": null,
            "order": null,
            "overflow": null,
            "overflow_x": null,
            "overflow_y": null,
            "padding": null,
            "right": null,
            "top": null,
            "visibility": null,
            "width": null
          }
        },
        "b4dc36609512481abd0304d4d85f1da4": {
          "model_module": "@jupyter-widgets/controls",
          "model_name": "DescriptionStyleModel",
          "model_module_version": "1.5.0",
          "state": {
            "_model_module": "@jupyter-widgets/controls",
            "_model_module_version": "1.5.0",
            "_model_name": "DescriptionStyleModel",
            "_view_count": null,
            "_view_module": "@jupyter-widgets/base",
            "_view_module_version": "1.2.0",
            "_view_name": "StyleView",
            "description_width": ""
          }
        }
      }
    }
  },
  "cells": [
    {
      "cell_type": "markdown",
      "metadata": {
        "id": "view-in-github",
        "colab_type": "text"
      },
      "source": [
        "<a href=\"https://colab.research.google.com/github/rematchka/NLP-Coding-Challenge/blob/main/Coding_Challenge_for_Fatima_Fellowship.ipynb\" target=\"_parent\"><img src=\"https://colab.research.google.com/assets/colab-badge.svg\" alt=\"Open In Colab\"/></a>"
      ]
    },
    {
      "cell_type": "markdown",
      "metadata": {
        "id": "eBpjBBZc6IvA"
      },
      "source": [
        "# Fatima Fellowship Quick Coding Challenge (Pick 1)\n",
        "\n",
        "Thank you for applying to the Fatima Fellowship. To help us select the Fellows and assess your ability to do machine learning research, we are asking that you complete a short coding challenge. Please pick **1 of these 5** coding challenges, whichever is most aligned with your interests. \n",
        "\n",
        "**Due date: 1 week**\n",
        "\n",
        "**How to submit**: Please make a copy of this colab notebook, add your code and results, and submit your colab notebook to the submission link below. If you have never used a colab notebook, [check out this video](https://www.youtube.com/watch?v=i-HnvsehuSw).\n",
        "\n",
        "**Submission link**: https://airtable.com/shrXy3QKSsO2yALd3"
      ]
    },
    {
      "cell_type": "markdown",
      "metadata": {
        "id": "sFU9LTOyMiMj"
      },
      "source": [
        "# 2. Deep Learning for NLP\n",
        "\n",
        "**Fake news classifier**: Train a text classification model to detect fake news articles!\n",
        "\n",
        "* Download the dataset here: https://www.kaggle.com/clmentbisaillon/fake-and-real-news-dataset\n",
        "* Develop an NLP model for classification that uses a pretrained language model\n",
        "* Finetune your model on the dataset, and generate an AUC curve of your model on the test set of your choice. \n",
        "* [Upload the the model to the Hugging Face Hub](https://huggingface.co/docs/hub/adding-a-model), and add a link to your model below.\n",
        "* *Answer the following question*: Look at some of the news articles that were classified incorrectly. Please explain what you might do to improve your model's performance on these news articles in the future (you do not need to impelement these suggestions)"
      ]
    },
    {
      "cell_type": "markdown",
      "source": [
        "### Load librariesand install libraries"
      ],
      "metadata": {
        "id": "heB21kZORy7Q"
      }
    },
    {
      "cell_type": "code",
      "source": [
        "!pip install transformers"
      ],
      "metadata": {
        "colab": {
          "base_uri": "https://localhost:8080/"
        },
        "id": "-xvaU1mPR546",
        "outputId": "c3df26a8-104b-4538-f201-1c1b538555f7"
      },
      "execution_count": null,
      "outputs": [
        {
          "output_type": "stream",
          "name": "stdout",
          "text": [
            "Collecting transformers\n",
            "  Downloading transformers-4.18.0-py3-none-any.whl (4.0 MB)\n",
            "\u001b[K     |████████████████████████████████| 4.0 MB 11.7 MB/s \n",
            "\u001b[?25hRequirement already satisfied: numpy>=1.17 in /usr/local/lib/python3.7/dist-packages (from transformers) (1.21.5)\n",
            "Requirement already satisfied: requests in /usr/local/lib/python3.7/dist-packages (from transformers) (2.23.0)\n",
            "Collecting tokenizers!=0.11.3,<0.13,>=0.11.1\n",
            "  Downloading tokenizers-0.11.6-cp37-cp37m-manylinux_2_12_x86_64.manylinux2010_x86_64.whl (6.5 MB)\n",
            "\u001b[K     |████████████████████████████████| 6.5 MB 12.8 MB/s \n",
            "\u001b[?25hCollecting pyyaml>=5.1\n",
            "  Downloading PyYAML-6.0-cp37-cp37m-manylinux_2_5_x86_64.manylinux1_x86_64.manylinux_2_12_x86_64.manylinux2010_x86_64.whl (596 kB)\n",
            "\u001b[K     |████████████████████████████████| 596 kB 10.8 MB/s \n",
            "\u001b[?25hRequirement already satisfied: importlib-metadata in /usr/local/lib/python3.7/dist-packages (from transformers) (4.11.3)\n",
            "Collecting huggingface-hub<1.0,>=0.1.0\n",
            "  Downloading huggingface_hub-0.5.1-py3-none-any.whl (77 kB)\n",
            "\u001b[K     |████████████████████████████████| 77 kB 5.4 MB/s \n",
            "\u001b[?25hRequirement already satisfied: filelock in /usr/local/lib/python3.7/dist-packages (from transformers) (3.6.0)\n",
            "Requirement already satisfied: packaging>=20.0 in /usr/local/lib/python3.7/dist-packages (from transformers) (21.3)\n",
            "Requirement already satisfied: regex!=2019.12.17 in /usr/local/lib/python3.7/dist-packages (from transformers) (2019.12.20)\n",
            "Requirement already satisfied: tqdm>=4.27 in /usr/local/lib/python3.7/dist-packages (from transformers) (4.63.0)\n",
            "Collecting sacremoses\n",
            "  Downloading sacremoses-0.0.49-py3-none-any.whl (895 kB)\n",
            "\u001b[K     |████████████████████████████████| 895 kB 36.2 MB/s \n",
            "\u001b[?25hRequirement already satisfied: typing-extensions>=3.7.4.3 in /usr/local/lib/python3.7/dist-packages (from huggingface-hub<1.0,>=0.1.0->transformers) (3.10.0.2)\n",
            "Requirement already satisfied: pyparsing!=3.0.5,>=2.0.2 in /usr/local/lib/python3.7/dist-packages (from packaging>=20.0->transformers) (3.0.7)\n",
            "Requirement already satisfied: zipp>=0.5 in /usr/local/lib/python3.7/dist-packages (from importlib-metadata->transformers) (3.7.0)\n",
            "Requirement already satisfied: urllib3!=1.25.0,!=1.25.1,<1.26,>=1.21.1 in /usr/local/lib/python3.7/dist-packages (from requests->transformers) (1.24.3)\n",
            "Requirement already satisfied: idna<3,>=2.5 in /usr/local/lib/python3.7/dist-packages (from requests->transformers) (2.10)\n",
            "Requirement already satisfied: certifi>=2017.4.17 in /usr/local/lib/python3.7/dist-packages (from requests->transformers) (2021.10.8)\n",
            "Requirement already satisfied: chardet<4,>=3.0.2 in /usr/local/lib/python3.7/dist-packages (from requests->transformers) (3.0.4)\n",
            "Requirement already satisfied: click in /usr/local/lib/python3.7/dist-packages (from sacremoses->transformers) (7.1.2)\n",
            "Requirement already satisfied: joblib in /usr/local/lib/python3.7/dist-packages (from sacremoses->transformers) (1.1.0)\n",
            "Requirement already satisfied: six in /usr/local/lib/python3.7/dist-packages (from sacremoses->transformers) (1.15.0)\n",
            "Installing collected packages: pyyaml, tokenizers, sacremoses, huggingface-hub, transformers\n",
            "  Attempting uninstall: pyyaml\n",
            "    Found existing installation: PyYAML 3.13\n",
            "    Uninstalling PyYAML-3.13:\n",
            "      Successfully uninstalled PyYAML-3.13\n",
            "Successfully installed huggingface-hub-0.5.1 pyyaml-6.0 sacremoses-0.0.49 tokenizers-0.11.6 transformers-4.18.0\n"
          ]
        }
      ]
    },
    {
      "cell_type": "code",
      "source": [
        "!pip install scikit-plot"
      ],
      "metadata": {
        "colab": {
          "base_uri": "https://localhost:8080/"
        },
        "id": "ZQZ0358yZwBc",
        "outputId": "cef0b81d-13cd-4022-fe79-d6d5311bb22e"
      },
      "execution_count": null,
      "outputs": [
        {
          "output_type": "stream",
          "name": "stdout",
          "text": [
            "Collecting scikit-plot\n",
            "  Downloading scikit_plot-0.3.7-py3-none-any.whl (33 kB)\n",
            "Requirement already satisfied: matplotlib>=1.4.0 in /usr/local/lib/python3.7/dist-packages (from scikit-plot) (3.2.2)\n",
            "Requirement already satisfied: joblib>=0.10 in /usr/local/lib/python3.7/dist-packages (from scikit-plot) (1.1.0)\n",
            "Requirement already satisfied: scipy>=0.9 in /usr/local/lib/python3.7/dist-packages (from scikit-plot) (1.4.1)\n",
            "Requirement already satisfied: scikit-learn>=0.18 in /usr/local/lib/python3.7/dist-packages (from scikit-plot) (1.0.2)\n",
            "Requirement already satisfied: kiwisolver>=1.0.1 in /usr/local/lib/python3.7/dist-packages (from matplotlib>=1.4.0->scikit-plot) (1.4.0)\n",
            "Requirement already satisfied: pyparsing!=2.0.4,!=2.1.2,!=2.1.6,>=2.0.1 in /usr/local/lib/python3.7/dist-packages (from matplotlib>=1.4.0->scikit-plot) (3.0.7)\n",
            "Requirement already satisfied: numpy>=1.11 in /usr/local/lib/python3.7/dist-packages (from matplotlib>=1.4.0->scikit-plot) (1.21.5)\n",
            "Requirement already satisfied: python-dateutil>=2.1 in /usr/local/lib/python3.7/dist-packages (from matplotlib>=1.4.0->scikit-plot) (2.8.2)\n",
            "Requirement already satisfied: cycler>=0.10 in /usr/local/lib/python3.7/dist-packages (from matplotlib>=1.4.0->scikit-plot) (0.11.0)\n",
            "Requirement already satisfied: typing-extensions in /usr/local/lib/python3.7/dist-packages (from kiwisolver>=1.0.1->matplotlib>=1.4.0->scikit-plot) (3.10.0.2)\n",
            "Requirement already satisfied: six>=1.5 in /usr/local/lib/python3.7/dist-packages (from python-dateutil>=2.1->matplotlib>=1.4.0->scikit-plot) (1.15.0)\n",
            "Requirement already satisfied: threadpoolctl>=2.0.0 in /usr/local/lib/python3.7/dist-packages (from scikit-learn>=0.18->scikit-plot) (3.1.0)\n",
            "Installing collected packages: scikit-plot\n",
            "Successfully installed scikit-plot-0.3.7\n"
          ]
        }
      ]
    },
    {
      "cell_type": "code",
      "source": [
        "import os\n",
        "import gc\n",
        "import copy\n",
        "import time\n",
        "import random\n",
        "import string\n",
        "import re\n",
        "\n",
        "# For data manipulation\n",
        "import numpy as np\n",
        "import pandas as pd\n",
        "\n",
        "# Pytorch Imports\n",
        "import torch\n",
        "import torch.nn as nn\n",
        "import torch.optim as optim\n",
        "from torch.optim import lr_scheduler\n",
        "from torch.utils.data import Dataset, DataLoader\n",
        "import torch.nn.functional as F\n",
        "\n",
        "\n",
        "# Utils\n",
        "from tqdm import tqdm\n",
        "from collections import defaultdict\n",
        "\n",
        "# Sklearn Imports\n",
        "from sklearn.metrics import mean_squared_error\n",
        "from sklearn.model_selection import StratifiedKFold, KFold\n",
        "from sklearn.metrics import roc_curve\n",
        "# Compute ROC curve and ROC area for each class\n",
        "import scikitplot as skplt\n",
        "\n",
        "# For Transformer Models\n",
        "from transformers import AutoTokenizer, AutoModel, AdamW\n",
        "from transformers import AutoConfig\n",
        "from transformers import get_scheduler\n",
        "\n",
        "\n",
        "\n",
        "# visualization \n",
        "import matplotlib.pyplot as plt\n",
        "import seaborn as sns\n",
        "from wordcloud import WordCloud\n",
        "%matplotlib inline\n",
        "# NLP libraries as NLTK\n",
        "from collections import defaultdict\n",
        "from nltk.corpus import stopwords\n",
        "import nltk\n",
        "nltk.download('stopwords')\n"
      ],
      "metadata": {
        "colab": {
          "base_uri": "https://localhost:8080/"
        },
        "id": "FmJgRMA1R19v",
        "outputId": "e0c21630-1af6-4535-8b3b-1ce0a82fd0be"
      },
      "execution_count": null,
      "outputs": [
        {
          "output_type": "stream",
          "name": "stdout",
          "text": [
            "[nltk_data] Downloading package stopwords to /root/nltk_data...\n",
            "[nltk_data]   Package stopwords is already up-to-date!\n"
          ]
        },
        {
          "output_type": "execute_result",
          "data": {
            "text/plain": [
              "True"
            ]
          },
          "metadata": {},
          "execution_count": 35
        }
      ]
    },
    {
      "cell_type": "markdown",
      "source": [
        "### Mount Drive and load the dataset"
      ],
      "metadata": {
        "id": "gVZbLUY9Srwc"
      }
    },
    {
      "cell_type": "code",
      "source": [
        "from google.colab import drive\n",
        "drive.mount('/content/drive')"
      ],
      "metadata": {
        "id": "E90i018KyJH3",
        "colab": {
          "base_uri": "https://localhost:8080/"
        },
        "outputId": "fdb7b1f4-1390-4143-dcb1-ddac41df7f0e"
      },
      "execution_count": null,
      "outputs": [
        {
          "output_type": "stream",
          "name": "stdout",
          "text": [
            "Mounted at /content/drive\n"
          ]
        }
      ]
    },
    {
      "cell_type": "code",
      "source": [
        "true_df = pd.read_csv('/content/drive/MyDrive/Fatima Fellowship Task/True.csv')\n",
        "fake_df = pd.read_csv('/content/drive/MyDrive/Fatima Fellowship Task/Fake.csv')"
      ],
      "metadata": {
        "id": "GSYEyNLQRvEv"
      },
      "execution_count": null,
      "outputs": []
    },
    {
      "cell_type": "code",
      "source": [
        "# adding label\n",
        "true_df[\"label\"] = [1]*len(true_df) \n",
        "fake_df[\"label\"] = [0]*len(fake_df)"
      ],
      "metadata": {
        "id": "CKxGfu97THpt"
      },
      "execution_count": null,
      "outputs": []
    },
    {
      "cell_type": "code",
      "source": [
        "# concatenate true & fake articles together\n",
        "df = pd.concat([true_df, fake_df]).sample(frac=1).reset_index(drop=True)\n",
        "# # drop duplicates\n",
        "df.drop_duplicates(inplace=True)\n",
        "\n",
        "# empty rows\n",
        "df.dropna(inplace=True)"
      ],
      "metadata": {
        "id": "f2hKuIbWTMuh"
      },
      "execution_count": null,
      "outputs": []
    },
    {
      "cell_type": "markdown",
      "source": [
        "### Investigate The data  "
      ],
      "metadata": {
        "id": "n2PpI875Vfun"
      }
    },
    {
      "cell_type": "markdown",
      "source": [
        "##### Check If date might affect classification "
      ],
      "metadata": {
        "id": "lx0RgfebVkTP"
      }
    },
    {
      "cell_type": "code",
      "source": [
        "## Extract Year from Data column\n",
        "df['year']=df['date'].str[-5:]\n"
      ],
      "metadata": {
        "id": "gxkft5PEVs60"
      },
      "execution_count": null,
      "outputs": []
    },
    {
      "cell_type": "code",
      "source": [
        "df['year'].unique()"
      ],
      "metadata": {
        "colab": {
          "base_uri": "https://localhost:8080/"
        },
        "id": "trE6uM1FXTH_",
        "outputId": "4e468162-436e-461f-d63f-b7ce75b321e2"
      },
      "execution_count": null,
      "outputs": [
        {
          "output_type": "execute_result",
          "data": {
            "text/plain": [
              "array(['2017 ', '2016 ', ' 2017', ' 2016', ' 2015', 'eb-18', 'dier/',\n",
              "       'd.jpg', 'left/', 't.jpg', 'ideo]', '-pie/'], dtype=object)"
            ]
          },
          "metadata": {},
          "execution_count": 8
        }
      ]
    },
    {
      "cell_type": "markdown",
      "source": [
        "It seems that the date column is not well formated anc ontain some useless information, Therefore we could descard this column"
      ],
      "metadata": {
        "id": "_CMKEJ8vYRfW"
      }
    },
    {
      "cell_type": "markdown",
      "source": [
        "##### Invetigating Article/Title column"
      ],
      "metadata": {
        "id": "S2SIHCjAZ0Dk"
      }
    },
    {
      "cell_type": "code",
      "source": [
        "# get number of words in the data\n",
        "def text_length(text):\n",
        "    word_count = 0\n",
        "    for word in text.split(\" \"):\n",
        "        word_count += 1\n",
        "    return word_count\n",
        "\n",
        "true_words_count = true_df['text'].apply(text_length)\n",
        "fake_words_count = fake_df['text'].apply(text_length)\n",
        "\n",
        "words_count = pd.DataFrame({'True': true_words_count, 'Fake': true_words_count})\n",
        "\n",
        "plt.figure(figsize=(10, 6))\n",
        "words_count.boxplot()\n",
        "plt.xlabel('News category')\n",
        "plt.ylabel('Distribution of words in the news text')"
      ],
      "metadata": {
        "colab": {
          "base_uri": "https://localhost:8080/",
          "height": 405
        },
        "id": "g31eu7rhZy6j",
        "outputId": "64efbb60-b7ed-418b-e420-683e13cab575"
      },
      "execution_count": null,
      "outputs": [
        {
          "output_type": "execute_result",
          "data": {
            "text/plain": [
              "Text(0, 0.5, 'Distribution of words in the news text')"
            ]
          },
          "metadata": {},
          "execution_count": 9
        },
        {
          "output_type": "display_data",
          "data": {
            "text/plain": [
              "<Figure size 720x432 with 1 Axes>"
            ],
            "image/png": "[encoded data removed]"
          },
          "metadata": {
            "needs_background": "light"
          }
        }
      ]
    },
    {
      "cell_type": "markdown",
      "source": [
        "Surprisingly fake news have more words than true ones. Hypothetically, this can be explained by the desire of fake news to convince the audience in their reliablity and hence, they use more words and tricks to do it. However, at the same the true news should give an extensive explanation of their articles to the audience. Hence, some mystery occures here."
      ],
      "metadata": {
        "id": "fYOmfb71auTb"
      }
    },
    {
      "cell_type": "code",
      "source": [
        "true_words_count = true_df['title'].apply(text_length)\n",
        "fake_words_count = fake_df['title'].apply(text_length)\n",
        "\n",
        "words_count = pd.DataFrame({'True': true_words_count, 'Fake': true_words_count})\n",
        "\n",
        "plt.figure(figsize=(10, 6))\n",
        "words_count.boxplot()\n",
        "plt.xlabel('News category')\n",
        "plt.ylabel('Distribution of words in the news title')"
      ],
      "metadata": {
        "colab": {
          "base_uri": "https://localhost:8080/",
          "height": 405
        },
        "id": "7vt6DFBsatec",
        "outputId": "c2cd3346-ace8-4397-ea16-f10a4f7ee7b2"
      },
      "execution_count": null,
      "outputs": [
        {
          "output_type": "execute_result",
          "data": {
            "text/plain": [
              "Text(0, 0.5, 'Distribution of words in the news title')"
            ]
          },
          "metadata": {},
          "execution_count": 10
        },
        {
          "output_type": "display_data",
          "data": {
            "text/plain": [
              "<Figure size 720x432 with 1 Axes>"
            ],
            "image/png": "[encoded data removed]"
          },
          "metadata": {
            "needs_background": "light"
          }
        }
      ]
    },
    {
      "cell_type": "code",
      "source": [
        "stopwords = stopwords.words('english')\n",
        "\n",
        "\n",
        "# create a corpuse of words in the data.\n",
        "def create_corpuse(data, column_name):\n",
        "    words_by_frequency = defaultdict(int)\n",
        "\n",
        "    for title in data['{0}'.format(column_name)]:\n",
        "        for word in title.lower().split(' '):\n",
        "            if word not in stopwords:\n",
        "                words_by_frequency[word] += 1\n",
        "\n",
        "    return sorted(words_by_frequency.items(), key=lambda x: x[1], reverse=True)\n",
        "\n",
        "counter_words_title_true = create_corpuse(true_df, 'title')\n",
        "counter_words_title_fake = create_corpuse(fake_df, 'title')\n",
        "\n",
        "counter_words_text_true = create_corpuse(true_df, 'text')\n",
        "counter_words_text_fake = create_corpuse(fake_df, 'text')"
      ],
      "metadata": {
        "id": "Tlw1j9D4cw8W"
      },
      "execution_count": null,
      "outputs": []
    },
    {
      "cell_type": "code",
      "source": [
        "# plot the most frequent words in the data.\n",
        "def most_frequent_words_barplot(true_words, fake_words, part = 'titles'):\n",
        "    fig, ax = plt.subplots(1, 2, figsize = (16, 8)) \n",
        "    sns.barplot(x=[x[1] for x in true_words[:30]], y =[x[0] for x in true_words[:30]], palette='Blues', ax = ax[0])\n",
        "    sns.barplot(x=[x[1] for x in fake_words[:30]], y =[x[0] for x in fake_words[:30]], palette='Reds', ax = ax[1])\n",
        "\n",
        "    ax[0].title.set_text(\"30 most common words in true news articles {0}\".format(part))\n",
        "    ax[1].title.set_text(\"30 most common words in fake news articles {0}\".format(part))"
      ],
      "metadata": {
        "id": "p0WKFzG5c2W8"
      },
      "execution_count": null,
      "outputs": []
    },
    {
      "cell_type": "code",
      "source": [
        "# Most frequent words in titles of true vs fake news.\n",
        "most_frequent_words_barplot(counter_words_title_true, counter_words_title_fake)"
      ],
      "metadata": {
        "colab": {
          "base_uri": "https://localhost:8080/",
          "height": 499
        },
        "id": "QCi2NqCUc59M",
        "outputId": "950c3b9a-8784-49bb-b711-9bc9c80a7d1d"
      },
      "execution_count": null,
      "outputs": [
        {
          "output_type": "display_data",
          "data": {
            "text/plain": [
              "<Figure size 1152x576 with 2 Axes>"
            ],
            "image/png": "[encoded data removed]"
          },
          "metadata": {
            "needs_background": "light"
          }
        }
      ]
    },
    {
      "cell_type": "code",
      "source": [
        "# Most frequent words in texts of true vs fake news.\n",
        "most_frequent_words_barplot(counter_words_text_true, counter_words_text_fake)"
      ],
      "metadata": {
        "colab": {
          "base_uri": "https://localhost:8080/",
          "height": 499
        },
        "id": "u1meHD_sc_n_",
        "outputId": "b05fa88b-d94f-4022-a88f-719c6b73edcb"
      },
      "execution_count": null,
      "outputs": [
        {
          "output_type": "display_data",
          "data": {
            "text/plain": [
              "<Figure size 1152x576 with 2 Axes>"
            ],
            "image/png": "[encoded data removed]"
          },
          "metadata": {
            "needs_background": "light"
          }
        }
      ]
    },
    {
      "cell_type": "markdown",
      "source": [
        "It seems that the  two plots above don't show any apparent difference between the titles of the news or the article itself"
      ],
      "metadata": {
        "id": "4eSgaAMJdRYB"
      }
    },
    {
      "cell_type": "code",
      "source": [
        "# some popular news agencies names \n",
        "# get the number of 'element' in the data\n",
        "def find_text_elements(data, column_name, element):\n",
        "    count_element = 0\n",
        "    re_element = re.compile(element)\n",
        "    for text in data['{0}'.format(column_name)]:\n",
        "        count_element += len(re.findall(re_element, text.lower()))\n",
        "    return count_element\n",
        "\n",
        "articles = {'the washington post': [0, 0], 'cnn': [0, 0], 'bbc': [0, 0], 'reuters': [0, 0], \n",
        "            'fox news': [0, 0], 'the new york times': [0, 0], 'nbc': [0, 0]}\n",
        "for key, _ in articles.items():\n",
        "    true_value = find_text_elements(true_df, 'text', element=key)\n",
        "    fake_value = find_text_elements(fake_df, 'text', element=key)\n",
        "    articles[key] = true_value, fake_value\n",
        "    \n"
      ],
      "metadata": {
        "id": "Omsm-fW6dcTy"
      },
      "execution_count": null,
      "outputs": []
    },
    {
      "cell_type": "code",
      "source": [
        "articles_count = pd.DataFrame(articles)\n",
        "\n",
        "\n",
        "plt.figure(figsize=(10, 6))\n",
        "articles_count.T.plot(kind='barh', colormap='autumn')\n",
        "plt.xlabel('Number of times the articles are mentioned');\n",
        "plt.legend(['True', 'Fake']);"
      ],
      "metadata": {
        "colab": {
          "base_uri": "https://localhost:8080/",
          "height": 297
        },
        "id": "DfwdqI4Sd3Pu",
        "outputId": "a4e6d16d-435a-457f-fb89-8c94829fc16e"
      },
      "execution_count": null,
      "outputs": [
        {
          "output_type": "display_data",
          "data": {
            "text/plain": [
              "<Figure size 720x432 with 0 Axes>"
            ]
          },
          "metadata": {}
        },
        {
          "output_type": "display_data",
          "data": {
            "text/plain": [
              "<Figure size 432x288 with 1 Axes>"
            ],
            "image/png": "[encoded data removed]"
          },
          "metadata": {
            "needs_background": "light"
          }
        }
      ]
    },
    {
      "cell_type": "markdown",
      "source": [
        "It seems with word reuters in the article we classify articles into fake vs true"
      ],
      "metadata": {
        "id": "Ii4dMfV7d33C"
      }
    },
    {
      "cell_type": "code",
      "source": [
        "\n",
        "articles = {'the washington post': [0, 0], 'cnn': [0, 0], 'bbc': [0, 0], 'reuters': [0, 0], \n",
        "            'fox news': [0, 0], 'the new york times': [0, 0], 'nbc': [0, 0]}\n",
        "for key, _ in articles.items():\n",
        "    true_value = find_text_elements(true_df, 'title', element=key)\n",
        "    fake_value = find_text_elements(fake_df, 'title', element=key)\n",
        "    articles[key] = true_value, fake_value\n",
        "    \n"
      ],
      "metadata": {
        "id": "JWh1z_p1eGLI"
      },
      "execution_count": null,
      "outputs": []
    },
    {
      "cell_type": "code",
      "source": [
        "articles_count = pd.DataFrame(articles)\n",
        "plt.figure(figsize=(10, 6))\n",
        "articles_count.T.plot(kind='barh', colormap='autumn')\n",
        "plt.xlabel('Number of times the articles are mentioned');\n",
        "plt.legend(['True', 'Fake']);"
      ],
      "metadata": {
        "colab": {
          "base_uri": "https://localhost:8080/",
          "height": 297
        },
        "id": "0_YkIZXHeKxr",
        "outputId": "f6da69a2-04d6-41ba-8449-a5fff3fe625d"
      },
      "execution_count": null,
      "outputs": [
        {
          "output_type": "display_data",
          "data": {
            "text/plain": [
              "<Figure size 720x432 with 0 Axes>"
            ]
          },
          "metadata": {}
        },
        {
          "output_type": "display_data",
          "data": {
            "text/plain": [
              "<Figure size 432x288 with 1 Axes>"
            ],
            "image/png": "[encoded data removed]"
          },
          "metadata": {
            "needs_background": "light"
          }
        }
      ]
    },
    {
      "cell_type": "markdown",
      "source": [
        "For the title it seems having word CNN is enough to classify True vs fake articles"
      ],
      "metadata": {
        "id": "ZeZHdcSTeVTV"
      }
    },
    {
      "cell_type": "markdown",
      "source": [
        "#### Next step is to investigate the topic column"
      ],
      "metadata": {
        "id": "jS88ifGfY0Li"
      }
    },
    {
      "cell_type": "code",
      "source": [
        "import warnings\n",
        "warnings.simplefilter(action='ignore', category=FutureWarning) \n",
        "\n",
        "plt.figure(figsize=(15, 5))\n",
        "plt.subplot(1, 2, 1)\n",
        "sns.countplot('subject', data=fake_df)\n",
        "plt.xticks(rotation =70)\n",
        "\n",
        "plt.subplot(1, 2, 2)\n",
        "sns.countplot('subject', data=true_df)\n",
        "plt.show()"
      ],
      "metadata": {
        "colab": {
          "base_uri": "https://localhost:8080/",
          "height": 414
        },
        "id": "m7Edy4T3Y7kL",
        "outputId": "84de58db-d302-4fca-f3ef-9d565292d84d"
      },
      "execution_count": null,
      "outputs": [
        {
          "output_type": "display_data",
          "data": {
            "text/plain": [
              "<Figure size 1080x360 with 2 Axes>"
            ],
            "image/png": "[encoded data removed]"
          },
          "metadata": {
            "needs_background": "light"
          }
        }
      ]
    },
    {
      "cell_type": "markdown",
      "source": [
        "Left graph indicates Topics for Fake articles, while right graph indicates topics for True articles, it seems that any Topic/subject of type Politicsnews or worldnews is non-fake article while any  other subject/topic is Fake article, May be there is a bias in the data. Therefore it's a good option not to use it in building the model"
      ],
      "metadata": {
        "id": "4iRKe8zJY67E"
      }
    },
    {
      "cell_type": "markdown",
      "source": [
        "#### Conclusion about the data\n"
      ],
      "metadata": {
        "id": "MUPl0alKeeor"
      }
    },
    {
      "cell_type": "markdown",
      "source": [
        "The dataset has many features that point to bias towards fake news, apparently a poorly structured dataset that does not allow you to raise more consistent information in relation to real characteristics that fake news can present"
      ],
      "metadata": {
        "id": "74W3bbJHep-O"
      }
    },
    {
      "cell_type": "markdown",
      "source": [
        "### Split dataset into train-validation test"
      ],
      "metadata": {
        "id": "S1xtKuggTmdf"
      }
    },
    {
      "cell_type": "code",
      "source": [
        "train, validate, test = \\\n",
        "              np.split(df.sample(frac=1, random_state=42), \n",
        "                       [int(.6*len(df)), int(.8*len(df))])"
      ],
      "metadata": {
        "id": "IrB1zqDdTluN"
      },
      "execution_count": null,
      "outputs": []
    },
    {
      "cell_type": "markdown",
      "source": [
        "### Model Building"
      ],
      "metadata": {
        "id": "JF-o2MzMT_Cg"
      }
    },
    {
      "cell_type": "code",
      "source": [
        "DATA_COLUMN='text'\n",
        "LABEL_COLUMN='label'\n",
        "MODEL_NAME='bert-base-uncased'\n",
        "tokenizer= AutoTokenizer.from_pretrained(MODEL_NAME)\n"
      ],
      "metadata": {
        "id": "_0Z59N50ULfb",
        "colab": {
          "base_uri": "https://localhost:8080/",
          "height": 145,
          "referenced_widgets": [
            "2e0c82fe09da427690160f445b5998c3",
            "8fe241e2c76e42d9a6410e1b536c1dd5",
            "49191fc9f40c41ed959e93911313bae0",
            "5b66c5a84dec45348123c1f3601ad6a0",
            "5502aa241ba0437d813975984a966de5",
            "351f613472aa4964a48d84b0bd5f96ba",
            "1fc99313fd504ead85d4f33baf1815c0",
            "30860d52617a43e09e06714893d90d4d",
            "749ddfaa17a34a279fb9781c50618dc9",
            "646131fa7e414f9ea9ec2f0d6717cd3b",
            "35d0eda4eaa540a6824e72e1c1fb520c",
            "57bffac0a09a4d54b740d975080b99af",
            "b39eea56e8f342dba71625e46261397a",
            "5c08fcde26314f089d20b30c0b07aec8",
            "9fa7ea3450ea47feb33820dc725248d7",
            "639673eb0bb04cca84a0e9a204f10f8f",
            "ace4be080c3d4b67ba30c8b6dde6c3cb",
            "35bca292900a4e0a9cb52eecd23e39e7",
            "3a098bfcf21e40bf811911aa0b82e947",
            "ec2c2c50c7aa4a0fb08d2cf95e4e31fe",
            "663c2ef8b2f046149daf9ac60feca9c7",
            "2ca4232873fb47b9b10fc894373e3d0a",
            "293de09f6ff14b78b182da3155e504eb",
            "b27ab3e6cf4d488192d814bce014b379",
            "4c2e37ed6afd45538b16ff73e95f6447",
            "9d07929be146432f80338d00e88b56f7",
            "7fdcacac9a3f4e71b60a80035e3cb70e",
            "2ecf15087ce548649c758cbcfa182ea8",
            "d5e7a4105d694ec0a91338066428a31f",
            "84b8ab2a83364f28b689b48f776bc24f",
            "18d05ff0d10a4f099c86fa9e9f9eaef7",
            "0642d0e1bf0d402ca656bac512310ee6",
            "3bd188cf4d40473f8e67cd79ddb28db5",
            "d18068bfc4444b39abbe809685c27f22",
            "e5bf61c015e348d3999b1a6e3ceba8d7",
            "f3d790ce5e314ccaa61a6b29ffb7d670",
            "4340c0d9f2b140ae9c82f80f99346eee",
            "77f7cf71c6c44f87a46f2a1ae577098b",
            "7ba0f28991a94572b735ce3cf1e6f693",
            "9b40b8e4eff0424e8022a30a49676088",
            "54d98dc6c6274b6f87a43c9108ec2086",
            "7aa37ab822b3437cb4e8c7509e030708",
            "89133adb5e6949bdbcccf660c2434684",
            "b4dc36609512481abd0304d4d85f1da4"
          ]
        },
        "outputId": "25c5fcf4-9db0-4b4c-d365-8c504789f411"
      },
      "execution_count": null,
      "outputs": [
        {
          "output_type": "display_data",
          "data": {
            "text/plain": [
              "Downloading:   0%|          | 0.00/28.0 [00:00<?, ?B/s]"
            ],
            "application/vnd.jupyter.widget-view+json": {
              "version_major": 2,
              "version_minor": 0,
              "model_id": "2e0c82fe09da427690160f445b5998c3"
            }
          },
          "metadata": {}
        },
        {
          "output_type": "display_data",
          "data": {
            "text/plain": [
              "Downloading:   0%|          | 0.00/570 [00:00<?, ?B/s]"
            ],
            "application/vnd.jupyter.widget-view+json": {
              "version_major": 2,
              "version_minor": 0,
              "model_id": "57bffac0a09a4d54b740d975080b99af"
            }
          },
          "metadata": {}
        },
        {
          "output_type": "display_data",
          "data": {
            "text/plain": [
              "Downloading:   0%|          | 0.00/226k [00:00<?, ?B/s]"
            ],
            "application/vnd.jupyter.widget-view+json": {
              "version_major": 2,
              "version_minor": 0,
              "model_id": "293de09f6ff14b78b182da3155e504eb"
            }
          },
          "metadata": {}
        },
        {
          "output_type": "display_data",
          "data": {
            "text/plain": [
              "Downloading:   0%|          | 0.00/455k [00:00<?, ?B/s]"
            ],
            "application/vnd.jupyter.widget-view+json": {
              "version_major": 2,
              "version_minor": 0,
              "model_id": "d18068bfc4444b39abbe809685c27f22"
            }
          },
          "metadata": {}
        }
      ]
    },
    {
      "cell_type": "code",
      "source": [
        "CONFIG = {\"seed\": 2021,\n",
        "          \"epochs\": 3,\n",
        "          \"train_batch_size\": 16,\n",
        "          \"valid_batch_size\": 64,\n",
        "          \"max_length\": 256,\n",
        "          \"learning_rate\": 1e-4,\n",
        "          \"scheduler\": 'CosineAnnealingLR',\n",
        "          \"min_lr\": 1e-6,\n",
        "          \"T_max\": 500,\n",
        "          \"weight_decay\": 1e-6,\n",
        "          \"n_fold\": 5,\n",
        "          \"n_accumulate\": 1,\n",
        "          \"num_classes\": 1,\n",
        "          \"margin\": 0.5,\n",
        "          \"device\": torch.device(\"cuda:0\" if torch.cuda.is_available() else \"cpu\"),\n",
        "          }"
      ],
      "metadata": {
        "id": "cgQpww8Fiixt"
      },
      "execution_count": null,
      "outputs": []
    },
    {
      "cell_type": "code",
      "source": [
        "class TrainDataset(Dataset):\n",
        "    def __init__(self, df, tokenizer, max_length):\n",
        "        self.df = df\n",
        "        self.max_len = max_length\n",
        "        self.tokenizer = tokenizer\n",
        "        self.text = df[DATA_COLUMN].values\n",
        "        self.label=df[LABEL_COLUMN].values\n",
        "        \n",
        "    def __len__(self):\n",
        "        return len(self.df)\n",
        "    \n",
        "    def __getitem__(self, index):\n",
        "        text = self.text[index]\n",
        "        inputs_text = self.tokenizer.encode_plus(\n",
        "                                text,\n",
        "                                truncation=True,\n",
        "                                add_special_tokens=True,\n",
        "                                max_length=self.max_len,\n",
        "                                padding='max_length'\n",
        "                            )\n",
        "        \n",
        "                            \n",
        "        target = self.label[index]        \n",
        "        text_ids = inputs_text['input_ids']\n",
        "        text_mask = inputs_text['attention_mask']      \n",
        "              \n",
        "        \n",
        "        return {\n",
        "            \n",
        "            'text_ids': torch.tensor(text_ids, dtype=torch.long),\n",
        "            'text_mask': torch.tensor(text_mask, dtype=torch.long),\n",
        "            'target': torch.tensor(target, dtype=torch.float)\n",
        "        }\n"
      ],
      "metadata": {
        "id": "E8iWd5JSUDRe"
      },
      "execution_count": null,
      "outputs": []
    },
    {
      "cell_type": "code",
      "source": [
        "class Fake_Real_Model_Arch(nn.Module):\n",
        "    def __init__(self):\n",
        "        super().__init__()\n",
        "        \n",
        "        self.bert = AutoModel.from_pretrained(MODEL_NAME)        \n",
        "        num_classes = 2  # number of targets to predict\n",
        "        embedding_dim = 768   # length of embedding dim        \n",
        "        self.fc1 = nn.Linear(embedding_dim, num_classes)\n",
        "        self.softmax = nn.Softmax()\n",
        "\n",
        "    def forward(self, text_id, text_mask):\n",
        "        outputs= self.bert(text_id, attention_mask=text_mask)        \n",
        "        outputs = outputs[1]  # get hidden layers       \n",
        "        logit = self.fc1(outputs)\n",
        "        return self.softmax(logit)"
      ],
      "metadata": {
        "id": "NRFOf7bcewqz"
      },
      "execution_count": null,
      "outputs": []
    },
    {
      "cell_type": "code",
      "source": [
        "def criterion(outputs,  targets):\n",
        "    criterion = torch.nn.CrossEntropyLoss()\n",
        "    loss = criterion(outputs, targets)\n",
        "    return loss"
      ],
      "metadata": {
        "id": "6qsD_OjPg9R1"
      },
      "execution_count": null,
      "outputs": []
    },
    {
      "cell_type": "code",
      "source": [
        "def train_one_epoch(model, optimizer, scheduler, dataloader, device, epoch):\n",
        "    model.train()\n",
        "    \n",
        "    dataset_size = 0\n",
        "    running_loss = 0.0\n",
        "    \n",
        "    bar = tqdm(enumerate(dataloader), total=len(dataloader))\n",
        "    for step, data in bar:\n",
        "        \n",
        "        text_ids = data['text_ids'].to(device, dtype = torch.long)\n",
        "        text_mask = data['text_mask'].to(device, dtype = torch.long)\n",
        "        targets = data['target'].to(device, dtype=torch.float)\n",
        "        targets = F.one_hot(targets.to(torch.int64), 2).to(torch.float32)\n",
        "        \n",
        "        batch_size = text_ids.size(0)\n",
        "\n",
        "        outputs = model(text_ids, text_mask)\n",
        "             \n",
        "     \n",
        "\n",
        "        \n",
        "        loss = criterion(outputs, targets)\n",
        "        loss = loss / CONFIG['n_accumulate']\n",
        "        loss.backward()\n",
        "    \n",
        "        if (step + 1) % CONFIG['n_accumulate'] == 0:\n",
        "            optimizer.step()\n",
        "\n",
        "            # zero the parameter gradients\n",
        "            optimizer.zero_grad()\n",
        "\n",
        "            if scheduler is not None:\n",
        "                scheduler.step()\n",
        "                \n",
        "        running_loss += (loss.item() * batch_size)\n",
        "        dataset_size += batch_size\n",
        "        \n",
        "        epoch_loss = running_loss / dataset_size\n",
        "\n",
        "       \n",
        "      \n",
        "        \n",
        "        bar.set_postfix(Epoch=epoch, Train_Loss=epoch_loss,\n",
        "                        LR=optimizer.param_groups[0]['lr'])\n",
        "    gc.collect()\n",
        "    \n",
        "    return epoch_loss"
      ],
      "metadata": {
        "id": "s7tnci8VhOGY"
      },
      "execution_count": null,
      "outputs": []
    },
    {
      "cell_type": "code",
      "source": [
        "@torch.no_grad()\n",
        "def valid_one_epoch(model, dataloader, device, epoch):\n",
        "    model.eval()\n",
        "    \n",
        "    dataset_size = 0\n",
        "    running_loss = 0.0\n",
        "    \n",
        "    bar = tqdm(enumerate(dataloader), total=len(dataloader))\n",
        "    for step, data in bar:        \n",
        "        \n",
        "        text_ids = data['text_ids'].to(device, dtype = torch.long)\n",
        "        text_mask = data['text_mask'].to(device, dtype = torch.long)\n",
        "        targets = data['target'].to(device, dtype=torch.float)\n",
        "        targets = F.one_hot(targets.to(torch.int64), 2).to(torch.float32)\n",
        "        \n",
        "        batch_size = text_ids.size(0)\n",
        "\n",
        "        outputs = model(text_ids, text_mask)\n",
        "      \n",
        "        \n",
        "        \n",
        "        loss = criterion(outputs, targets)\n",
        "        \n",
        "\n",
        "        \n",
        "        running_loss += (loss.item() * batch_size)\n",
        "        dataset_size += batch_size\n",
        "        \n",
        "        epoch_loss = running_loss / dataset_size\n",
        "        \n",
        "        bar.set_postfix(Epoch=epoch, Valid_Loss=epoch_loss,\n",
        "                        LR=optimizer.param_groups[0]['lr'])   \n",
        "    \n",
        "    gc.collect()\n",
        "    \n",
        "    return epoch_loss"
      ],
      "metadata": {
        "id": "rrvT2b4Bhqra"
      },
      "execution_count": null,
      "outputs": []
    },
    {
      "cell_type": "code",
      "source": [
        "def run_training(model, optimizer, scheduler, device, num_epochs):\n",
        "    # To automatically log gradients\n",
        "    \n",
        "    if torch.cuda.is_available():\n",
        "        print(\"[INFO] Using GPU: {}\\n\".format(torch.cuda.get_device_name()))\n",
        "    \n",
        "    start = time.time()\n",
        "    best_model_wts = copy.deepcopy(model.state_dict())\n",
        "    best_epoch_loss = np.inf\n",
        "    history = defaultdict(list)\n",
        "    \n",
        "    for epoch in range(1, num_epochs + 1): \n",
        "        gc.collect()\n",
        "        train_epoch_loss = train_one_epoch(model, optimizer, scheduler, \n",
        "                                           dataloader=train_loader, \n",
        "                                           device=CONFIG['device'], epoch=epoch)\n",
        "        \n",
        "        val_epoch_loss = valid_one_epoch(model, valid_loader, device=CONFIG['device'], \n",
        "                                         epoch=epoch)\n",
        "    \n",
        "        history['Train Loss'].append(train_epoch_loss)\n",
        "        history['Valid Loss'].append(val_epoch_loss)\n",
        "        \n",
        "       \n",
        "        \n",
        "        # deep copy the model\n",
        "        if val_epoch_loss <= best_epoch_loss:\n",
        "            print(f\"Validation Loss Improved ({best_epoch_loss} ---> {val_epoch_loss})\")\n",
        "            best_epoch_loss = val_epoch_loss\n",
        "            best_model_wts = copy.deepcopy(model.state_dict())\n",
        "            PATH = f\"/content/drive/MyDrive/Fatima Fellowship Task/Model_weights/model_roberta.bin\"\n",
        "            torch.save(model.state_dict(), PATH)\n",
        "            # Save a model file from the current directory\n",
        "            print(\"Model Saved\")\n",
        "            \n",
        "        print()\n",
        "    \n",
        "    end = time.time()\n",
        "    time_elapsed = end - start\n",
        "    print('Training complete in {:.0f}h {:.0f}m {:.0f}s'.format(\n",
        "        time_elapsed // 3600, (time_elapsed % 3600) // 60, (time_elapsed % 3600) % 60))\n",
        "    print(\"Best Loss: {:.4f}\".format(best_epoch_loss))\n",
        "    \n",
        "    # load best model weights\n",
        "    model.load_state_dict(best_model_wts)\n",
        "    \n",
        "    return model, history"
      ],
      "metadata": {
        "id": "e-vkQOEyhubE"
      },
      "execution_count": null,
      "outputs": []
    },
    {
      "cell_type": "code",
      "source": [
        "def fetch_scheduler(optimizer):\n",
        "    if CONFIG['scheduler'] == 'CosineAnnealingLR':\n",
        "        scheduler = lr_scheduler.CosineAnnealingLR(optimizer,T_max=CONFIG['T_max'], \n",
        "                                                   eta_min=CONFIG['min_lr'])\n",
        "    elif CONFIG['scheduler'] == 'CosineAnnealingWarmRestarts':\n",
        "        scheduler = lr_scheduler.CosineAnnealingWarmRestarts(optimizer,T_0=CONFIG['T_0'], \n",
        "                                                             eta_min=CONFIG['min_lr'])\n",
        "    elif CONFIG['scheduler'] == None:\n",
        "        return None\n",
        "\n",
        "    \n",
        "        \n",
        "    return scheduler"
      ],
      "metadata": {
        "id": "hOPGGabziBaZ"
      },
      "execution_count": null,
      "outputs": []
    },
    {
      "cell_type": "code",
      "source": [
        "def prepare_loaders():   \n",
        "    \n",
        "    train_dataset = TrainDataset(train, tokenizer=tokenizer, max_length=CONFIG['max_length'])\n",
        "    valid_dataset = TrainDataset(validate, tokenizer=tokenizer, max_length=CONFIG['max_length'])\n",
        "\n",
        "    train_loader = DataLoader(train_dataset, batch_size=CONFIG['train_batch_size'], \n",
        "                              num_workers=2, shuffle=False, pin_memory=True, drop_last=True)\n",
        "    valid_loader = DataLoader(valid_dataset, batch_size=CONFIG['valid_batch_size'], \n",
        "                              num_workers=2, shuffle=False, pin_memory=True)\n",
        "    \n",
        "    return train_loader, valid_loader"
      ],
      "metadata": {
        "id": "5_IbGsIoiGfd"
      },
      "execution_count": null,
      "outputs": []
    },
    {
      "cell_type": "markdown",
      "source": [
        "## FineTune Model"
      ],
      "metadata": {
        "id": "8vy6CdPFjgPL"
      }
    },
    {
      "cell_type": "code",
      "source": [
        "import gc\n",
        "gc.collect()"
      ],
      "metadata": {
        "colab": {
          "base_uri": "https://localhost:8080/"
        },
        "id": "7_ql3-hhy0jy",
        "outputId": "f0b5da24-0712-4ee9-de51-ab544905e736"
      },
      "execution_count": null,
      "outputs": [
        {
          "output_type": "execute_result",
          "data": {
            "text/plain": [
              "4087"
            ]
          },
          "metadata": {},
          "execution_count": 63
        }
      ]
    },
    {
      "cell_type": "code",
      "source": [
        "# Create Dataloaders\n",
        "train_loader, valid_loader = prepare_loaders()\n",
        "model = Fake_Real_Model_Arch()\n",
        "model.to(CONFIG['device'])\n",
        "torch.cuda.empty_cache()\n",
        "\n",
        "# Define Optimizer and Scheduler\n",
        "\n",
        "param_optimizer = list(model.named_parameters())\n",
        "no_decay = [\"bias\", \"LayerNorm.bias\", \"LayerNorm.weight\"]\n",
        "optimizer_parameters = [\n",
        "    {'params': [p for n, p in param_optimizer if not any(nd in n for nd in no_decay)], \n",
        "     'weight_decay': 0.0001},\n",
        "    {'params': [p for n, p in param_optimizer if any(nd in n for nd in no_decay)], \n",
        "     'weight_decay': 0.0}\n",
        "    ]  \n",
        "\n",
        "optimizer = AdamW(optimizer_parameters, lr=CONFIG['learning_rate'])\n",
        "\n",
        "\n",
        "model, history = run_training(model, optimizer, fetch_scheduler(optimizer),\n",
        "                              device=CONFIG['device'],\n",
        "                              num_epochs=CONFIG['epochs'],\n",
        "                              )\n",
        "\n",
        "\n",
        "del model, history, train_loader, valid_loader\n",
        "_ = gc.collect()"
      ],
      "metadata": {
        "colab": {
          "base_uri": "https://localhost:8080/"
        },
        "id": "yb7wWBMWiKqv",
        "outputId": "2e09c3c7-c0cb-4f53-bfa5-bd98a710499e"
      },
      "execution_count": null,
      "outputs": [
        {
          "output_type": "stream",
          "name": "stderr",
          "text": [
            "Some weights of the model checkpoint at bert-base-uncased were not used when initializing BertModel: ['cls.seq_relationship.bias', 'cls.predictions.transform.dense.weight', 'cls.predictions.decoder.weight', 'cls.predictions.transform.LayerNorm.weight', 'cls.predictions.transform.LayerNorm.bias', 'cls.seq_relationship.weight', 'cls.predictions.transform.dense.bias', 'cls.predictions.bias']\n",
            "- This IS expected if you are initializing BertModel from the checkpoint of a model trained on another task or with another architecture (e.g. initializing a BertForSequenceClassification model from a BertForPreTraining model).\n",
            "- This IS NOT expected if you are initializing BertModel from the checkpoint of a model that you expect to be exactly identical (initializing a BertForSequenceClassification model from a BertForSequenceClassification model).\n",
            "/usr/local/lib/python3.7/dist-packages/transformers/optimization.py:309: FutureWarning: This implementation of AdamW is deprecated and will be removed in a future version. Use the PyTorch implementation torch.optim.AdamW instead, or set `no_deprecation_warning=True` to disable this warning\n",
            "  FutureWarning,\n"
          ]
        },
        {
          "output_type": "stream",
          "name": "stdout",
          "text": [
            "[INFO] Using GPU: Tesla K80\n",
            "\n"
          ]
        },
        {
          "output_type": "stream",
          "name": "stderr",
          "text": [
            "\r  0%|          | 0/1675 [00:00<?, ?it/s]/usr/local/lib/python3.7/dist-packages/ipykernel_launcher.py:15: UserWarning: Implicit dimension choice for softmax has been deprecated. Change the call to include dim=X as an argument.\n",
            "  from ipykernel import kernelapp as app\n",
            "100%|██████████| 1675/1675 [36:24<00:00,  1.30s/it, Epoch=1, LR=2.8e-5, Train_Loss=0.321]\n",
            "100%|██████████| 140/140 [04:14<00:00,  1.82s/it, Epoch=1, LR=2.8e-5, Valid_Loss=0.319]\n"
          ]
        },
        {
          "output_type": "stream",
          "name": "stdout",
          "text": [
            "Validation Loss Improved (inf ---> 0.318861868103283)\n",
            "Model Saved\n",
            "\n"
          ]
        },
        {
          "output_type": "stream",
          "name": "stderr",
          "text": [
            "100%|██████████| 1675/1675 [36:25<00:00,  1.30s/it, Epoch=2, LR=2.14e-5, Train_Loss=0.318]\n",
            "100%|██████████| 140/140 [04:14<00:00,  1.82s/it, Epoch=2, LR=2.14e-5, Valid_Loss=0.319]\n"
          ]
        },
        {
          "output_type": "stream",
          "name": "stdout",
          "text": [
            "Validation Loss Improved (0.318861868103283 ---> 0.3185959299503223)\n",
            "Model Saved\n",
            "\n"
          ]
        },
        {
          "output_type": "stream",
          "name": "stderr",
          "text": [
            "100%|██████████| 1675/1675 [36:24<00:00,  1.30s/it, Epoch=3, LR=9.94e-5, Train_Loss=0.326]\n",
            "100%|██████████| 140/140 [04:14<00:00,  1.81s/it, Epoch=3, LR=9.94e-5, Valid_Loss=0.842]\n"
          ]
        },
        {
          "output_type": "stream",
          "name": "stdout",
          "text": [
            "\n",
            "Training complete in 2h 2m 16s\n",
            "Best Loss: 0.3186\n"
          ]
        }
      ]
    },
    {
      "cell_type": "markdown",
      "source": [
        "## Inference"
      ],
      "metadata": {
        "id": "ucn2b2HUjizB"
      }
    },
    {
      "cell_type": "code",
      "source": [
        "import transformers\n",
        "class Fake_Real_Model_Arch_test(transformers.PreTrainedModel):\n",
        "    def __init__(self,bert):\n",
        "        super(Fake_Real_Model_Arch_test,self).__init__(config=AutoConfig.from_pretrained(MODEL_NAME))\n",
        "        \n",
        "        self.bert = bert        \n",
        "        num_classes = 2  # number of targets to predict\n",
        "        embedding_dim = 768   # length of embedding dim        \n",
        "        self.fc1 = nn.Linear(embedding_dim, num_classes)\n",
        "        self.softmax = nn.Softmax()\n",
        "\n",
        "    def forward(self, text_id, text_mask):\n",
        "        outputs= self.bert(text_id, attention_mask=text_mask)        \n",
        "        outputs = outputs[1]  # get hidden layers       \n",
        "        logit = self.fc1(outputs)\n",
        "        return self.softmax(logit)"
      ],
      "metadata": {
        "id": "LgvvsywUvFgd"
      },
      "execution_count": null,
      "outputs": []
    },
    {
      "cell_type": "code",
      "source": [
        "@torch.no_grad()\n",
        "def test_fn(model, dataloader, device):\n",
        "    model.eval()\n",
        "    \n",
        "    dataset_size = 0\n",
        "    running_loss = 0.0\n",
        "    \n",
        "    PREDS = []\n",
        "    \n",
        "    bar = tqdm(enumerate(dataloader), total=len(dataloader))\n",
        "    for step, data in bar:\n",
        "        ids = data['text_ids'].to(device, dtype = torch.long)\n",
        "        mask = data['text_mask'].to(device, dtype = torch.long)\n",
        "        \n",
        "        outputs = model(ids, mask)\n",
        "        PREDS.append(outputs.detach().cpu().numpy()) \n",
        "    \n",
        "    PREDS = np.concatenate(PREDS)\n",
        "    gc.collect()\n",
        "    \n",
        "    return PREDS"
      ],
      "metadata": {
        "id": "FTxYCx5xjs2q"
      },
      "execution_count": null,
      "outputs": []
    },
    {
      "cell_type": "code",
      "source": [
        "test_dataset = TrainDataset(test, tokenizer=tokenizer, max_length=CONFIG['max_length'])\n",
        "test_loader = DataLoader(test_dataset, batch_size=CONFIG['valid_batch_size'], \n",
        "                              num_workers=2, shuffle=False, pin_memory=True)"
      ],
      "metadata": {
        "id": "F19FiG0vjdHR"
      },
      "execution_count": null,
      "outputs": []
    },
    {
      "cell_type": "code",
      "source": [
        "def inference(model_paths, dataloader, device):\n",
        "    final_preds = []\n",
        "    for i, path in enumerate(model_paths):\n",
        "        model = Fake_Real_Model_Arch_test(AutoModel.from_pretrained(MODEL_NAME))\n",
        "        model.to(CONFIG['device'])\n",
        "        model.load_state_dict(torch.load(path))\n",
        "        \n",
        "        print(f\"Getting predictions for model {i+1}\")\n",
        "        preds = test_fn(model, dataloader, device)\n",
        "        final_preds.append(preds)\n",
        "    \n",
        "    final_preds = np.array(final_preds)\n",
        "    final_preds_probabolity = np.mean(final_preds, axis=0)\n",
        "    final_preds= np.argmax(final_preds_probabolity,axis=1)\n",
        "    return final_preds,final_preds_probabolity"
      ],
      "metadata": {
        "id": "OpTpYuIwjnpK"
      },
      "execution_count": null,
      "outputs": []
    },
    {
      "cell_type": "code",
      "source": [
        "MODEL_PATH_=['/content/drive/MyDrive/Fatima Fellowship Task/Model_weights/model_roberta.bin']\n",
        "preds,prob = inference(MODEL_PATH_, test_loader, CONFIG['device'])"
      ],
      "metadata": {
        "id": "qHJLf6RGj3S0",
        "colab": {
          "base_uri": "https://localhost:8080/"
        },
        "outputId": "fec805bf-d209-4e37-adb8-99cf5c29354a"
      },
      "execution_count": null,
      "outputs": [
        {
          "output_type": "stream",
          "name": "stderr",
          "text": [
            "Some weights of the model checkpoint at bert-base-uncased were not used when initializing BertModel: ['cls.predictions.transform.dense.weight', 'cls.seq_relationship.weight', 'cls.predictions.decoder.weight', 'cls.predictions.transform.LayerNorm.bias', 'cls.predictions.transform.dense.bias', 'cls.seq_relationship.bias', 'cls.predictions.bias', 'cls.predictions.transform.LayerNorm.weight']\n",
            "- This IS expected if you are initializing BertModel from the checkpoint of a model trained on another task or with another architecture (e.g. initializing a BertForSequenceClassification model from a BertForPreTraining model).\n",
            "- This IS NOT expected if you are initializing BertModel from the checkpoint of a model that you expect to be exactly identical (initializing a BertForSequenceClassification model from a BertForSequenceClassification model).\n"
          ]
        },
        {
          "output_type": "stream",
          "name": "stdout",
          "text": [
            "Getting predictions for model 1\n"
          ]
        },
        {
          "output_type": "stream",
          "name": "stderr",
          "text": [
            "\r  0%|          | 0/140 [00:00<?, ?it/s]/usr/local/lib/python3.7/dist-packages/ipykernel_launcher.py:16: UserWarning: Implicit dimension choice for softmax has been deprecated. Change the call to include dim=X as an argument.\n",
            "  app.launch_new_instance()\n",
            "100%|██████████| 140/140 [04:13<00:00,  1.81s/it]\n"
          ]
        }
      ]
    },
    {
      "cell_type": "markdown",
      "source": [
        "### inference using hugging Face"
      ],
      "metadata": {
        "id": "ofTv1xamxDaF"
      }
    },
    {
      "cell_type": "code",
      "source": [
        "def inference_huggingFace( dataloader, device):\n",
        "    final_preds = []\n",
        "   \n",
        "    model =  Fake_Real_Model_Arch_test(AutoModel.from_pretrained(\"rematchka/Bert_fake_news_detection\"))\n",
        "    model.to(CONFIG['device'])\n",
        "    \n",
        "    \n",
        "    print(\"Getting predictions for model\")\n",
        "    preds = test_fn(model, dataloader, device)\n",
        "    final_preds.append(preds)\n",
        "    \n",
        "    final_preds = np.array(final_preds)\n",
        "    final_preds_probabolity = np.mean(final_preds, axis=0)\n",
        "    final_preds= np.argmax(final_preds_probabolity,axis=1)\n",
        "    return final_preds"
      ],
      "metadata": {
        "id": "zAXb3Zi216Jp"
      },
      "execution_count": null,
      "outputs": []
    },
    {
      "cell_type": "code",
      "source": [
        "tokenizer_ = AutoTokenizer.from_pretrained(MODEL_NAME)\n",
        "test_dataset = TrainDataset(test, tokenizer=tokenizer_, max_length=CONFIG['max_length'])\n",
        "test_loader = DataLoader(test_dataset, batch_size=CONFIG['valid_batch_size'], \n",
        "                              num_workers=2, shuffle=False, pin_memory=True)"
      ],
      "metadata": {
        "id": "UULAnbjO1zU-"
      },
      "execution_count": null,
      "outputs": []
    },
    {
      "cell_type": "code",
      "source": [
        "prediction=inference_huggingFace(test_loader, CONFIG['device'])"
      ],
      "metadata": {
        "colab": {
          "base_uri": "https://localhost:8080/"
        },
        "id": "eZgK4KSp2Tdh",
        "outputId": "9aaeee42-155b-454e-a465-3c72809725a5"
      },
      "execution_count": null,
      "outputs": [
        {
          "output_type": "stream",
          "name": "stderr",
          "text": [
            "Some weights of the model checkpoint at rematchka/Bert_fake_news_detection were not used when initializing BertModel: ['fc1.bias', 'fc1.weight']\n",
            "- This IS expected if you are initializing BertModel from the checkpoint of a model trained on another task or with another architecture (e.g. initializing a BertForSequenceClassification model from a BertForPreTraining model).\n",
            "- This IS NOT expected if you are initializing BertModel from the checkpoint of a model that you expect to be exactly identical (initializing a BertForSequenceClassification model from a BertForSequenceClassification model).\n"
          ]
        },
        {
          "output_type": "stream",
          "name": "stdout",
          "text": [
            "Getting predictions for model\n"
          ]
        },
        {
          "output_type": "stream",
          "name": "stderr",
          "text": [
            "\r  0%|          | 0/140 [00:00<?, ?it/s]/usr/local/lib/python3.7/dist-packages/ipykernel_launcher.py:16: UserWarning: Implicit dimension choice for softmax has been deprecated. Change the call to include dim=X as an argument.\n",
            "  app.launch_new_instance()\n",
            "100%|██████████| 140/140 [04:13<00:00,  1.81s/it]\n"
          ]
        }
      ]
    },
    {
      "cell_type": "markdown",
      "source": [
        "#### Classification Report"
      ],
      "metadata": {
        "id": "wtrud02ZkbZF"
      }
    },
    {
      "cell_type": "code",
      "source": [
        "from sklearn.metrics import jaccard_score,f1_score,accuracy_score,recall_score,precision_score,classification_report\n",
        "def print_statistics(y, y_pred):\n",
        "    accuracy = accuracy_score(y, y_pred)\n",
        "    precision =precision_score(y, y_pred, average='weighted')\n",
        "    recall = recall_score(y, y_pred, average='weighted')\n",
        "    f_score = f1_score(y, y_pred, average='weighted')\n",
        "    print('Accuracy: %.3f\\nPrecision: %.3f\\nRecall: %.3f\\nF_score: %.3f\\n'\n",
        "          % (accuracy, precision, recall, f_score))\n",
        "    print(classification_report(y, y_pred))\n",
        "    return accuracy, precision, recall, f_score"
      ],
      "metadata": {
        "id": "CJMEUd4lkVja"
      },
      "execution_count": null,
      "outputs": []
    },
    {
      "cell_type": "code",
      "source": [
        "print(print_statistics(test[LABEL_COLUMN],preds))"
      ],
      "metadata": {
        "id": "8Vnl00W7kJcA",
        "colab": {
          "base_uri": "https://localhost:8080/"
        },
        "outputId": "40c58214-9095-45d9-9369-fbb6bfab2467"
      },
      "execution_count": null,
      "outputs": [
        {
          "output_type": "stream",
          "name": "stdout",
          "text": [
            "Accuracy: 0.995\n",
            "Precision: 0.995\n",
            "Recall: 0.995\n",
            "F_score: 0.995\n",
            "\n",
            "              precision    recall  f1-score   support\n",
            "\n",
            "           0       1.00      0.99      1.00      4675\n",
            "           1       0.99      1.00      0.99      4263\n",
            "\n",
            "    accuracy                           0.99      8938\n",
            "   macro avg       0.99      0.99      0.99      8938\n",
            "weighted avg       0.99      0.99      0.99      8938\n",
            "\n",
            "(0.9948534347728798, 0.9948666172341039, 0.9948534347728798, 0.9948539885713076)\n"
          ]
        }
      ]
    },
    {
      "cell_type": "code",
      "source": [
        "print(print_statistics(test[LABEL_COLUMN],prediction))"
      ],
      "metadata": {
        "colab": {
          "base_uri": "https://localhost:8080/"
        },
        "id": "sKS5ZhoE4dCB",
        "outputId": "8784a8a4-9c18-4a5c-fb3f-c0027c114e13"
      },
      "execution_count": null,
      "outputs": [
        {
          "output_type": "stream",
          "name": "stdout",
          "text": [
            "Accuracy: 0.995\n",
            "Precision: 0.995\n",
            "Recall: 0.995\n",
            "F_score: 0.995\n",
            "\n",
            "              precision    recall  f1-score   support\n",
            "\n",
            "           0       1.00      0.99      1.00      4675\n",
            "           1       0.99      1.00      0.99      4263\n",
            "\n",
            "    accuracy                           0.99      8938\n",
            "   macro avg       0.99      0.99      0.99      8938\n",
            "weighted avg       0.99      0.99      0.99      8938\n",
            "\n",
            "(0.9948534347728798, 0.9948666172341039, 0.9948534347728798, 0.9948539885713076)\n"
          ]
        }
      ]
    },
    {
      "cell_type": "markdown",
      "source": [
        "#### AUC Curve"
      ],
      "metadata": {
        "id": "1tKd1HHwkeeg"
      }
    },
    {
      "cell_type": "code",
      "source": [
        "from sklearn.metrics import roc_curve\n",
        "fpr, tpr, thresholds = roc_curve(preds, np.max(prob,axis=1))"
      ],
      "metadata": {
        "id": "R4-3Vw40kgSI"
      },
      "execution_count": null,
      "outputs": []
    },
    {
      "cell_type": "code",
      "source": [
        "#create ROC curve\n",
        "plt.plot(fpr,tpr)\n",
        "plt.ylabel('True Positive Rate')\n",
        "plt.xlabel('False Positive Rate')\n",
        "plt.show()"
      ],
      "metadata": {
        "id": "K2CD2a-KkpMT",
        "colab": {
          "base_uri": "https://localhost:8080/",
          "height": 279
        },
        "outputId": "51aedf06-f265-41db-b99d-7bf193d1f6cd"
      },
      "execution_count": null,
      "outputs": [
        {
          "output_type": "display_data",
          "data": {
            "text/plain": [
              "<Figure size 432x288 with 1 Axes>"
            ],
            "image/png": "[encoded data removed]"
          },
          "metadata": {
            "needs_background": "light"
          }
        }
      ]
    },
    {
      "cell_type": "markdown",
      "source": [
        "#### Error Analysis"
      ],
      "metadata": {
        "id": "3OJ9VQzYnMui"
      }
    },
    {
      "cell_type": "code",
      "source": [
        "index_wrong=[]\n",
        "for i in range(len(test)):\n",
        "  if int(test[LABEL_COLUMN].iloc[i])!=int(preds[i]):\n",
        "    index_wrong.append(i)\n",
        "\n",
        "df_wrong_classification=test.iloc[index_wrong]"
      ],
      "metadata": {
        "id": "AMgWexRVddj6"
      },
      "execution_count": null,
      "outputs": []
    },
    {
      "cell_type": "code",
      "source": [
        "len(df_wrong_classification)"
      ],
      "metadata": {
        "colab": {
          "base_uri": "https://localhost:8080/"
        },
        "id": "0m-5_7Qxd1Yz",
        "outputId": "b4583838-3730-4ba5-8e2b-62a2ed2ad377"
      },
      "execution_count": null,
      "outputs": [
        {
          "output_type": "execute_result",
          "data": {
            "text/plain": [
              "43"
            ]
          },
          "metadata": {},
          "execution_count": 47
        }
      ]
    },
    {
      "cell_type": "code",
      "source": [
        "df_wrong_classification"
      ],
      "metadata": {
        "colab": {
          "base_uri": "https://localhost:8080/",
          "height": 1000
        },
        "id": "i4Q55JxIfCv0",
        "outputId": "eff9c763-22fa-4101-c49b-82a3a77cfa67"
      },
      "execution_count": null,
      "outputs": [
        {
          "output_type": "execute_result",
          "data": {
            "text/plain": [
              "                                                   title  \\\n",
              "7737    Watch Reporter’s Face As He Recounts Trump Go...   \n",
              "8548   Yahoo caves in to NSA, FBI – and secretly moni...   \n",
              "7256    Florida GOP’s Anti-Abortion Law Struck Down I...   \n",
              "5611   Republicans Cruz, Trump spar over tabloid char...   \n",
              "4926    Trump: Dwayne Wade’s Cousin Was Murdered So A...   \n",
              "29858   REPORT: Russia Taunts And Tests United States...   \n",
              "31759   Reuters News Agency Declares War On Trump In ...   \n",
              "5823   BREAKING: MASSIVE CYBER ATTACK ON ALL FEDERAL ...   \n",
              "35309  THE LEFT LOSES AGAIN: Third Quarter Economic E...   \n",
              "36849   Hundreds Arrested At Democracy Spring Protest...   \n",
              "33047  Sanders wins Wyoming, prepares to take on Clin...   \n",
              "10036   FBI Joins Investigation Of Michigan’s Governo...   \n",
              "11827  REPORT: ROBERT MUELLER Targets Trump Son With ...   \n",
              "11345  Trump aide dismisses audio tape as Democrats r...   \n",
              "1628   OBAMA INCITING A SECOND COLD WAR? 35 Russian D...   \n",
              "26367  BREAKING: IRAN THROWS DOWN ULTIMATUM: …Your Mo...   \n",
              "18783       Kushner divests equity in major NYC property   \n",
              "42569  Commentary: Trump can't fight Islamic State wi...   \n",
              "13716   Trump Just Became First President In Modern H...   \n",
              "4249   Obama unveils wage insurance plan to spur job ...   \n",
              "37874   New Poll Has Clinton Beating Trump By Eleven ...   \n",
              "7876   CNN INTERVIEW TURNS INTO SCREAMING MATCH When ...   \n",
              "20131   Here’s How Much California Would Bring In Eve...   \n",
              "20171  THE LEFT LOSES AGAIN: Third Quarter Economic E...   \n",
              "5500    Obama Oversees Record Stock Market Results De...   \n",
              "13089  IS OBAMA’S RADICAL AGENDA Responsible For Stat...   \n",
              "33711  BREAKING: FORD CEO CITES TRUMP In Announcement...   \n",
              "35025  BRILLIANT NEWT GINGRICH: Here’s Why Trump Shou...   \n",
              "17795  POPE MEETS WITH ANGRY, JEWISH, PR0 LATE-TERM A...   \n",
              "36194  The DIRTY TRUTH About DACA Recipients…Where Th...   \n",
              "28012     Jenner uses women's restroom at Trump property   \n",
              "25115  BREAKING: CLEVELAND POLICE CHIEF Asks Ohio Gov...   \n",
              "19055  WHY REUTERS IS SAYING With “reasonable confide...   \n",
              "2220   Macedonia's parliament adopts 2018 budget, opp...   \n",
              "26806  Trump's defense chief visits UAE in first Midd...   \n",
              "6173   OBAMA FIGHTS TO KEEP RADICAL AGENDA ALIVE: Ask...   \n",
              "42870  ‘BRIEFCASES FULL OF MONEY’…Uranium One Underco...   \n",
              "13860   Obama Just Got A Little More Than Pissed At T...   \n",
              "40433   Democrats Go On The Attack Against Voter ID Laws   \n",
              "21340   BREAKING: It’s Real, Russia Stole Our Electio...   \n",
              "25262   Betsy Devos Just Put A For-Profit Credit Card...   \n",
              "40568  Commentary: How long before North Korea can nu...   \n",
              "11407   ANOTHER Poll Has Clinton Beating Trump By 15 ...   \n",
              "\n",
              "                                                    text          subject  \\\n",
              "7737   On his 100th day in office, a listless Donald ...             News   \n",
              "8548   21st Century Wire says This will rank as one o...      Middle-east   \n",
              "7256   Anti-abortion advocates were dealt another hea...             News   \n",
              "5611   WASHINGTON - Republican Ted Cruz on Friday den...     politicsNews   \n",
              "4926   Donald Trump went to new lows in his efforts t...             News   \n",
              "29858  Russia is testing how far Donald Trump will le...             News   \n",
              "31759  Donald Trump s treatment of journalists is so ...             News   \n",
              "5823    This data breach could affect every federal a...  Government News   \n",
              "35309  The news that the forecast for the third quart...        left-news   \n",
              "36849  Today, several  Democracy Spring  protesters w...             News   \n",
              "33047  WASHINGTON - Bernie Sanders won the U.S. presi...     politicsNews   \n",
              "10036  After months of people calling for the arrest ...             News   \n",
              "11827  Remember when Chelsea Clinton faced the same s...        left-news   \n",
              "11345  WASHINGTON, 2016 - A top aide to Donald Trump ...     politicsNews   \n",
              "1628   Reuters reports:The United States expelled 35 ...         politics   \n",
              "26367   The nuclear industry is a necessity, for ener...         politics   \n",
              "18783  NEW YORK (IFR) - Jared Kushner has divested hi...     politicsNews   \n",
              "42569  Over the course of the U.S. presidential campa...     politicsNews   \n",
              "13716  Donald Trump has been fundraising like crazy f...             News   \n",
              "4249   WASHINGTON - U.S. President Barack Obama on Sa...     politicsNews   \n",
              "37874  While the media continues to push the narrativ...             News   \n",
              "7876   (From CNN) New video captured hours before Mic...         politics   \n",
              "20131  Californians have a choice ahead of them. In N...             News   \n",
              "20171  The news that the forecast for the third quart...         politics   \n",
              "5500   For more than seven years now the right-wing l...             News   \n",
              "13089  President Barack Obama has called the fight ag...         politics   \n",
              "33711   The Government-Orchestrated Bankruptcies Of G...        left-news   \n",
              "35025  Wouldn t you know that the CIA director had wo...         politics   \n",
              "17795  As a Catholic I m offended by this Pope s poli...         politics   \n",
              "36194  Yesterday, a second U.S. judge on Tuesday bloc...         politics   \n",
              "28012  Caitlyn Jenner posted a video on Wednesday (Ap...     politicsNews   \n",
              "25115  Obama s war on America just got real These act...         politics   \n",
              "19055  After examining the data Reuters used to make ...  Government News   \n",
              "2220   SKOPJE - Macedonia s parliament has adopted a ...        worldnews   \n",
              "26806  ABU DHABI - U.S. President Donald Trump’s defe...     politicsNews   \n",
              "6173   This is a good reminder of how important it is...        left-news   \n",
              "42870  As reported earlier today, Reuters has named t...         politics   \n",
              "13860  When President Obama took office in January of...             News   \n",
              "40433  Virginia s Voter ID law is being challenged in...             News   \n",
              "21340  While we don t yet have the smoking gun that s...             News   \n",
              "25262  On Tuesday, Education Secretary Betsy Devos an...             News   \n",
              "40568  It’s the near future, and North Korea’s regime...     politicsNews   \n",
              "11407  Last week, RABA Research had Hillary Clinton b...             News   \n",
              "\n",
              "                     date  label  \n",
              "7737       April 28, 2017      0  \n",
              "8548      October 5, 2016      0  \n",
              "7256         July 2, 2016      0  \n",
              "5611      March 25, 2016       1  \n",
              "4926      August 27, 2016      0  \n",
              "29858   February 14, 2017      0  \n",
              "31759    February 1, 2017      0  \n",
              "5823          Jun 5, 2015      0  \n",
              "35309        Aug 19, 2017      0  \n",
              "36849      April 11, 2016      0  \n",
              "33047      April 9, 2016       1  \n",
              "10036    February 2, 2016      0  \n",
              "11827         Aug 4, 2017      0  \n",
              "11345       May 15, 2016       1  \n",
              "1628         Dec 29, 2016      0  \n",
              "26367         Apr 9, 2015      0  \n",
              "18783   January 31, 2017       1  \n",
              "42569   December 7, 2016       1  \n",
              "13716  September 19, 2017      0  \n",
              "4249    January 16, 2016       1  \n",
              "37874        June 3, 2016      0  \n",
              "7876         Mar 13, 2017      0  \n",
              "20131        July 3, 2016      0  \n",
              "20171        Aug 19, 2017      0  \n",
              "5500       April 20, 2016      0  \n",
              "13089        Dec 26, 2015      0  \n",
              "33711         Jan 3, 2017      0  \n",
              "35025        Jan 15, 2017      0  \n",
              "17795        Apr 16, 2016      0  \n",
              "36194           15-Feb-18      0  \n",
              "28012     April 28, 2016       1  \n",
              "25115        Jul 17, 2016      0  \n",
              "19055        Oct 17, 2015      0  \n",
              "2220   December 23, 2017       1  \n",
              "26806  February 18, 2017       1  \n",
              "6173          Jul 2, 2016      0  \n",
              "42870        Nov 17, 2017      0  \n",
              "13860       March 7, 2016      0  \n",
              "40433   February 22, 2016      0  \n",
              "21340      April 19, 2017      0  \n",
              "25262       June 21, 2017      0  \n",
              "40568       May 31, 2016       1  \n",
              "11407      August 5, 2016      0  "
            ],
            "text/html": [
              "\n",
              "  <div id=\"df-72605e92-a823-4a46-a348-74ea82782887\">\n",
              "    <div class=\"colab-df-container\">\n",
              "      <div>\n",
              "<style scoped>\n",
              "    .dataframe tbody tr th:only-of-type {\n",
              "        vertical-align: middle;\n",
              "    }\n",
              "\n",
              "    .dataframe tbody tr th {\n",
              "        vertical-align: top;\n",
              "    }\n",
              "\n",
              "    .dataframe thead th {\n",
              "        text-align: right;\n",
              "    }\n",
              "</style>\n",
              "<table border=\"1\" class=\"dataframe\">\n",
              "  <thead>\n",
              "    <tr style=\"text-align: right;\">\n",
              "      <th></th>\n",
              "      <th>title</th>\n",
              "      <th>text</th>\n",
              "      <th>subject</th>\n",
              "      <th>date</th>\n",
              "      <th>label</th>\n",
              "    </tr>\n",
              "  </thead>\n",
              "  <tbody>\n",
              "    <tr>\n",
              "      <th>7737</th>\n",
              "      <td>Watch Reporter’s Face As He Recounts Trump Go...</td>\n",
              "      <td>On his 100th day in office, a listless Donald ...</td>\n",
              "      <td>News</td>\n",
              "      <td>April 28, 2017</td>\n",
              "      <td>0</td>\n",
              "    </tr>\n",
              "    <tr>\n",
              "      <th>8548</th>\n",
              "      <td>Yahoo caves in to NSA, FBI – and secretly moni...</td>\n",
              "      <td>21st Century Wire says This will rank as one o...</td>\n",
              "      <td>Middle-east</td>\n",
              "      <td>October 5, 2016</td>\n",
              "      <td>0</td>\n",
              "    </tr>\n",
              "    <tr>\n",
              "      <th>7256</th>\n",
              "      <td>Florida GOP’s Anti-Abortion Law Struck Down I...</td>\n",
              "      <td>Anti-abortion advocates were dealt another hea...</td>\n",
              "      <td>News</td>\n",
              "      <td>July 2, 2016</td>\n",
              "      <td>0</td>\n",
              "    </tr>\n",
              "    <tr>\n",
              "      <th>5611</th>\n",
              "      <td>Republicans Cruz, Trump spar over tabloid char...</td>\n",
              "      <td>WASHINGTON - Republican Ted Cruz on Friday den...</td>\n",
              "      <td>politicsNews</td>\n",
              "      <td>March 25, 2016</td>\n",
              "      <td>1</td>\n",
              "    </tr>\n",
              "    <tr>\n",
              "      <th>4926</th>\n",
              "      <td>Trump: Dwayne Wade’s Cousin Was Murdered So A...</td>\n",
              "      <td>Donald Trump went to new lows in his efforts t...</td>\n",
              "      <td>News</td>\n",
              "      <td>August 27, 2016</td>\n",
              "      <td>0</td>\n",
              "    </tr>\n",
              "    <tr>\n",
              "      <th>29858</th>\n",
              "      <td>REPORT: Russia Taunts And Tests United States...</td>\n",
              "      <td>Russia is testing how far Donald Trump will le...</td>\n",
              "      <td>News</td>\n",
              "      <td>February 14, 2017</td>\n",
              "      <td>0</td>\n",
              "    </tr>\n",
              "    <tr>\n",
              "      <th>31759</th>\n",
              "      <td>Reuters News Agency Declares War On Trump In ...</td>\n",
              "      <td>Donald Trump s treatment of journalists is so ...</td>\n",
              "      <td>News</td>\n",
              "      <td>February 1, 2017</td>\n",
              "      <td>0</td>\n",
              "    </tr>\n",
              "    <tr>\n",
              "      <th>5823</th>\n",
              "      <td>BREAKING: MASSIVE CYBER ATTACK ON ALL FEDERAL ...</td>\n",
              "      <td>This data breach could affect every federal a...</td>\n",
              "      <td>Government News</td>\n",
              "      <td>Jun 5, 2015</td>\n",
              "      <td>0</td>\n",
              "    </tr>\n",
              "    <tr>\n",
              "      <th>35309</th>\n",
              "      <td>THE LEFT LOSES AGAIN: Third Quarter Economic E...</td>\n",
              "      <td>The news that the forecast for the third quart...</td>\n",
              "      <td>left-news</td>\n",
              "      <td>Aug 19, 2017</td>\n",
              "      <td>0</td>\n",
              "    </tr>\n",
              "    <tr>\n",
              "      <th>36849</th>\n",
              "      <td>Hundreds Arrested At Democracy Spring Protest...</td>\n",
              "      <td>Today, several  Democracy Spring  protesters w...</td>\n",
              "      <td>News</td>\n",
              "      <td>April 11, 2016</td>\n",
              "      <td>0</td>\n",
              "    </tr>\n",
              "    <tr>\n",
              "      <th>33047</th>\n",
              "      <td>Sanders wins Wyoming, prepares to take on Clin...</td>\n",
              "      <td>WASHINGTON - Bernie Sanders won the U.S. presi...</td>\n",
              "      <td>politicsNews</td>\n",
              "      <td>April 9, 2016</td>\n",
              "      <td>1</td>\n",
              "    </tr>\n",
              "    <tr>\n",
              "      <th>10036</th>\n",
              "      <td>FBI Joins Investigation Of Michigan’s Governo...</td>\n",
              "      <td>After months of people calling for the arrest ...</td>\n",
              "      <td>News</td>\n",
              "      <td>February 2, 2016</td>\n",
              "      <td>0</td>\n",
              "    </tr>\n",
              "    <tr>\n",
              "      <th>11827</th>\n",
              "      <td>REPORT: ROBERT MUELLER Targets Trump Son With ...</td>\n",
              "      <td>Remember when Chelsea Clinton faced the same s...</td>\n",
              "      <td>left-news</td>\n",
              "      <td>Aug 4, 2017</td>\n",
              "      <td>0</td>\n",
              "    </tr>\n",
              "    <tr>\n",
              "      <th>11345</th>\n",
              "      <td>Trump aide dismisses audio tape as Democrats r...</td>\n",
              "      <td>WASHINGTON, 2016 - A top aide to Donald Trump ...</td>\n",
              "      <td>politicsNews</td>\n",
              "      <td>May 15, 2016</td>\n",
              "      <td>1</td>\n",
              "    </tr>\n",
              "    <tr>\n",
              "      <th>1628</th>\n",
              "      <td>OBAMA INCITING A SECOND COLD WAR? 35 Russian D...</td>\n",
              "      <td>Reuters reports:The United States expelled 35 ...</td>\n",
              "      <td>politics</td>\n",
              "      <td>Dec 29, 2016</td>\n",
              "      <td>0</td>\n",
              "    </tr>\n",
              "    <tr>\n",
              "      <th>26367</th>\n",
              "      <td>BREAKING: IRAN THROWS DOWN ULTIMATUM: …Your Mo...</td>\n",
              "      <td>The nuclear industry is a necessity, for ener...</td>\n",
              "      <td>politics</td>\n",
              "      <td>Apr 9, 2015</td>\n",
              "      <td>0</td>\n",
              "    </tr>\n",
              "    <tr>\n",
              "      <th>18783</th>\n",
              "      <td>Kushner divests equity in major NYC property</td>\n",
              "      <td>NEW YORK (IFR) - Jared Kushner has divested hi...</td>\n",
              "      <td>politicsNews</td>\n",
              "      <td>January 31, 2017</td>\n",
              "      <td>1</td>\n",
              "    </tr>\n",
              "    <tr>\n",
              "      <th>42569</th>\n",
              "      <td>Commentary: Trump can't fight Islamic State wi...</td>\n",
              "      <td>Over the course of the U.S. presidential campa...</td>\n",
              "      <td>politicsNews</td>\n",
              "      <td>December 7, 2016</td>\n",
              "      <td>1</td>\n",
              "    </tr>\n",
              "    <tr>\n",
              "      <th>13716</th>\n",
              "      <td>Trump Just Became First President In Modern H...</td>\n",
              "      <td>Donald Trump has been fundraising like crazy f...</td>\n",
              "      <td>News</td>\n",
              "      <td>September 19, 2017</td>\n",
              "      <td>0</td>\n",
              "    </tr>\n",
              "    <tr>\n",
              "      <th>4249</th>\n",
              "      <td>Obama unveils wage insurance plan to spur job ...</td>\n",
              "      <td>WASHINGTON - U.S. President Barack Obama on Sa...</td>\n",
              "      <td>politicsNews</td>\n",
              "      <td>January 16, 2016</td>\n",
              "      <td>1</td>\n",
              "    </tr>\n",
              "    <tr>\n",
              "      <th>37874</th>\n",
              "      <td>New Poll Has Clinton Beating Trump By Eleven ...</td>\n",
              "      <td>While the media continues to push the narrativ...</td>\n",
              "      <td>News</td>\n",
              "      <td>June 3, 2016</td>\n",
              "      <td>0</td>\n",
              "    </tr>\n",
              "    <tr>\n",
              "      <th>7876</th>\n",
              "      <td>CNN INTERVIEW TURNS INTO SCREAMING MATCH When ...</td>\n",
              "      <td>(From CNN) New video captured hours before Mic...</td>\n",
              "      <td>politics</td>\n",
              "      <td>Mar 13, 2017</td>\n",
              "      <td>0</td>\n",
              "    </tr>\n",
              "    <tr>\n",
              "      <th>20131</th>\n",
              "      <td>Here’s How Much California Would Bring In Eve...</td>\n",
              "      <td>Californians have a choice ahead of them. In N...</td>\n",
              "      <td>News</td>\n",
              "      <td>July 3, 2016</td>\n",
              "      <td>0</td>\n",
              "    </tr>\n",
              "    <tr>\n",
              "      <th>20171</th>\n",
              "      <td>THE LEFT LOSES AGAIN: Third Quarter Economic E...</td>\n",
              "      <td>The news that the forecast for the third quart...</td>\n",
              "      <td>politics</td>\n",
              "      <td>Aug 19, 2017</td>\n",
              "      <td>0</td>\n",
              "    </tr>\n",
              "    <tr>\n",
              "      <th>5500</th>\n",
              "      <td>Obama Oversees Record Stock Market Results De...</td>\n",
              "      <td>For more than seven years now the right-wing l...</td>\n",
              "      <td>News</td>\n",
              "      <td>April 20, 2016</td>\n",
              "      <td>0</td>\n",
              "    </tr>\n",
              "    <tr>\n",
              "      <th>13089</th>\n",
              "      <td>IS OBAMA’S RADICAL AGENDA Responsible For Stat...</td>\n",
              "      <td>President Barack Obama has called the fight ag...</td>\n",
              "      <td>politics</td>\n",
              "      <td>Dec 26, 2015</td>\n",
              "      <td>0</td>\n",
              "    </tr>\n",
              "    <tr>\n",
              "      <th>33711</th>\n",
              "      <td>BREAKING: FORD CEO CITES TRUMP In Announcement...</td>\n",
              "      <td>The Government-Orchestrated Bankruptcies Of G...</td>\n",
              "      <td>left-news</td>\n",
              "      <td>Jan 3, 2017</td>\n",
              "      <td>0</td>\n",
              "    </tr>\n",
              "    <tr>\n",
              "      <th>35025</th>\n",
              "      <td>BRILLIANT NEWT GINGRICH: Here’s Why Trump Shou...</td>\n",
              "      <td>Wouldn t you know that the CIA director had wo...</td>\n",
              "      <td>politics</td>\n",
              "      <td>Jan 15, 2017</td>\n",
              "      <td>0</td>\n",
              "    </tr>\n",
              "    <tr>\n",
              "      <th>17795</th>\n",
              "      <td>POPE MEETS WITH ANGRY, JEWISH, PR0 LATE-TERM A...</td>\n",
              "      <td>As a Catholic I m offended by this Pope s poli...</td>\n",
              "      <td>politics</td>\n",
              "      <td>Apr 16, 2016</td>\n",
              "      <td>0</td>\n",
              "    </tr>\n",
              "    <tr>\n",
              "      <th>36194</th>\n",
              "      <td>The DIRTY TRUTH About DACA Recipients…Where Th...</td>\n",
              "      <td>Yesterday, a second U.S. judge on Tuesday bloc...</td>\n",
              "      <td>politics</td>\n",
              "      <td>15-Feb-18</td>\n",
              "      <td>0</td>\n",
              "    </tr>\n",
              "    <tr>\n",
              "      <th>28012</th>\n",
              "      <td>Jenner uses women's restroom at Trump property</td>\n",
              "      <td>Caitlyn Jenner posted a video on Wednesday (Ap...</td>\n",
              "      <td>politicsNews</td>\n",
              "      <td>April 28, 2016</td>\n",
              "      <td>1</td>\n",
              "    </tr>\n",
              "    <tr>\n",
              "      <th>25115</th>\n",
              "      <td>BREAKING: CLEVELAND POLICE CHIEF Asks Ohio Gov...</td>\n",
              "      <td>Obama s war on America just got real These act...</td>\n",
              "      <td>politics</td>\n",
              "      <td>Jul 17, 2016</td>\n",
              "      <td>0</td>\n",
              "    </tr>\n",
              "    <tr>\n",
              "      <th>19055</th>\n",
              "      <td>WHY REUTERS IS SAYING With “reasonable confide...</td>\n",
              "      <td>After examining the data Reuters used to make ...</td>\n",
              "      <td>Government News</td>\n",
              "      <td>Oct 17, 2015</td>\n",
              "      <td>0</td>\n",
              "    </tr>\n",
              "    <tr>\n",
              "      <th>2220</th>\n",
              "      <td>Macedonia's parliament adopts 2018 budget, opp...</td>\n",
              "      <td>SKOPJE - Macedonia s parliament has adopted a ...</td>\n",
              "      <td>worldnews</td>\n",
              "      <td>December 23, 2017</td>\n",
              "      <td>1</td>\n",
              "    </tr>\n",
              "    <tr>\n",
              "      <th>26806</th>\n",
              "      <td>Trump's defense chief visits UAE in first Midd...</td>\n",
              "      <td>ABU DHABI - U.S. President Donald Trump’s defe...</td>\n",
              "      <td>politicsNews</td>\n",
              "      <td>February 18, 2017</td>\n",
              "      <td>1</td>\n",
              "    </tr>\n",
              "    <tr>\n",
              "      <th>6173</th>\n",
              "      <td>OBAMA FIGHTS TO KEEP RADICAL AGENDA ALIVE: Ask...</td>\n",
              "      <td>This is a good reminder of how important it is...</td>\n",
              "      <td>left-news</td>\n",
              "      <td>Jul 2, 2016</td>\n",
              "      <td>0</td>\n",
              "    </tr>\n",
              "    <tr>\n",
              "      <th>42870</th>\n",
              "      <td>‘BRIEFCASES FULL OF MONEY’…Uranium One Underco...</td>\n",
              "      <td>As reported earlier today, Reuters has named t...</td>\n",
              "      <td>politics</td>\n",
              "      <td>Nov 17, 2017</td>\n",
              "      <td>0</td>\n",
              "    </tr>\n",
              "    <tr>\n",
              "      <th>13860</th>\n",
              "      <td>Obama Just Got A Little More Than Pissed At T...</td>\n",
              "      <td>When President Obama took office in January of...</td>\n",
              "      <td>News</td>\n",
              "      <td>March 7, 2016</td>\n",
              "      <td>0</td>\n",
              "    </tr>\n",
              "    <tr>\n",
              "      <th>40433</th>\n",
              "      <td>Democrats Go On The Attack Against Voter ID Laws</td>\n",
              "      <td>Virginia s Voter ID law is being challenged in...</td>\n",
              "      <td>News</td>\n",
              "      <td>February 22, 2016</td>\n",
              "      <td>0</td>\n",
              "    </tr>\n",
              "    <tr>\n",
              "      <th>21340</th>\n",
              "      <td>BREAKING: It’s Real, Russia Stole Our Electio...</td>\n",
              "      <td>While we don t yet have the smoking gun that s...</td>\n",
              "      <td>News</td>\n",
              "      <td>April 19, 2017</td>\n",
              "      <td>0</td>\n",
              "    </tr>\n",
              "    <tr>\n",
              "      <th>25262</th>\n",
              "      <td>Betsy Devos Just Put A For-Profit Credit Card...</td>\n",
              "      <td>On Tuesday, Education Secretary Betsy Devos an...</td>\n",
              "      <td>News</td>\n",
              "      <td>June 21, 2017</td>\n",
              "      <td>0</td>\n",
              "    </tr>\n",
              "    <tr>\n",
              "      <th>40568</th>\n",
              "      <td>Commentary: How long before North Korea can nu...</td>\n",
              "      <td>It’s the near future, and North Korea’s regime...</td>\n",
              "      <td>politicsNews</td>\n",
              "      <td>May 31, 2016</td>\n",
              "      <td>1</td>\n",
              "    </tr>\n",
              "    <tr>\n",
              "      <th>11407</th>\n",
              "      <td>ANOTHER Poll Has Clinton Beating Trump By 15 ...</td>\n",
              "      <td>Last week, RABA Research had Hillary Clinton b...</td>\n",
              "      <td>News</td>\n",
              "      <td>August 5, 2016</td>\n",
              "      <td>0</td>\n",
              "    </tr>\n",
              "  </tbody>\n",
              "</table>\n",
              "</div>\n",
              "      <button class=\"colab-df-convert\" onclick=\"convertToInteractive('df-72605e92-a823-4a46-a348-74ea82782887')\"\n",
              "              title=\"Convert this dataframe to an interactive table.\"\n",
              "              style=\"display:none;\">\n",
              "        \n",
              "  <svg xmlns=\"http://www.w3.org/2000/svg\" height=\"24px\"viewBox=\"0 0 24 24\"\n",
              "       width=\"24px\">\n",
              "    <path d=\"M0 0h24v24H0V0z\" fill=\"none\"/>\n",
              "    <path d=\"M18.56 5.44l.94 2.06.94-2.06 2.06-.94-2.06-.94-.94-2.06-.94 2.06-2.06.94zm-11 1L8.5 8.5l.94-2.06 2.06-.94-2.06-.94L8.5 2.5l-.94 2.06-2.06.94zm10 10l.94 2.06.94-2.06 2.06-.94-2.06-.94-.94-2.06-.94 2.06-2.06.94z\"/><path d=\"M17.41 7.96l-1.37-1.37c-.4-.4-.92-.59-1.43-.59-.52 0-1.04.2-1.43.59L10.3 9.45l-7.72 7.72c-.78.78-.78 2.05 0 2.83L4 21.41c.39.39.9.59 1.41.59.51 0 1.02-.2 1.41-.59l7.78-7.78 2.81-2.81c.8-.78.8-2.07 0-2.86zM5.41 20L4 18.59l7.72-7.72 1.47 1.35L5.41 20z\"/>\n",
              "  </svg>\n",
              "      </button>\n",
              "      \n",
              "  <style>\n",
              "    .colab-df-container {\n",
              "      display:flex;\n",
              "      flex-wrap:wrap;\n",
              "      gap: 12px;\n",
              "    }\n",
              "\n",
              "    .colab-df-convert {\n",
              "      background-color: #E8F0FE;\n",
              "      border: none;\n",
              "      border-radius: 50%;\n",
              "      cursor: pointer;\n",
              "      display: none;\n",
              "      fill: #1967D2;\n",
              "      height: 32px;\n",
              "      padding: 0 0 0 0;\n",
              "      width: 32px;\n",
              "    }\n",
              "\n",
              "    .colab-df-convert:hover {\n",
              "      background-color: #E2EBFA;\n",
              "      box-shadow: 0px 1px 2px rgba(60, 64, 67, 0.3), 0px 1px 3px 1px rgba(60, 64, 67, 0.15);\n",
              "      fill: #174EA6;\n",
              "    }\n",
              "\n",
              "    [theme=dark] .colab-df-convert {\n",
              "      background-color: #3B4455;\n",
              "      fill: #D2E3FC;\n",
              "    }\n",
              "\n",
              "    [theme=dark] .colab-df-convert:hover {\n",
              "      background-color: #434B5C;\n",
              "      box-shadow: 0px 1px 3px 1px rgba(0, 0, 0, 0.15);\n",
              "      filter: drop-shadow(0px 1px 2px rgba(0, 0, 0, 0.3));\n",
              "      fill: #FFFFFF;\n",
              "    }\n",
              "  </style>\n",
              "\n",
              "      <script>\n",
              "        const buttonEl =\n",
              "          document.querySelector('#df-72605e92-a823-4a46-a348-74ea82782887 button.colab-df-convert');\n",
              "        buttonEl.style.display =\n",
              "          google.colab.kernel.accessAllowed ? 'block' : 'none';\n",
              "\n",
              "        async function convertToInteractive(key) {\n",
              "          const element = document.querySelector('#df-72605e92-a823-4a46-a348-74ea82782887');\n",
              "          const dataTable =\n",
              "            await google.colab.kernel.invokeFunction('convertToInteractive',\n",
              "                                                     [key], {});\n",
              "          if (!dataTable) return;\n",
              "\n",
              "          const docLinkHtml = 'Like what you see? Visit the ' +\n",
              "            '<a target=\"_blank\" href=https://colab.research.google.com/notebooks/data_table.ipynb>data table notebook</a>'\n",
              "            + ' to learn more about interactive tables.';\n",
              "          element.innerHTML = '';\n",
              "          dataTable['output_type'] = 'display_data';\n",
              "          await google.colab.output.renderOutput(dataTable, element);\n",
              "          const docLink = document.createElement('div');\n",
              "          docLink.innerHTML = docLinkHtml;\n",
              "          element.appendChild(docLink);\n",
              "        }\n",
              "      </script>\n",
              "    </div>\n",
              "  </div>\n",
              "  "
            ]
          },
          "metadata": {},
          "execution_count": 48
        }
      ]
    },
    {
      "cell_type": "markdown",
      "source": [
        "# Write Up"
      ],
      "metadata": {
        "id": "a0SxHDXNfijd"
      }
    },
    {
      "cell_type": "markdown",
      "source": [
        "**Write up**: \n",
        "* Link to the model on Hugging Face Hub: rematchka/Bert_fake_news_detection\n",
        "* Include some examples of misclassified news articles. Please explain what you might do to improve your model's performance on these news articles in the future (you do not need to impelement these suggestions)"
      ],
      "metadata": {
        "id": "kpInVUMLyJ24"
      }
    },
    {
      "cell_type": "markdown",
      "source": [
        "#### Link"
      ],
      "metadata": {
        "id": "mp8LNsBtf2d2"
      }
    },
    {
      "cell_type": "markdown",
      "source": [
        "To access model on Hugging Face Hub: rematchka/Bert_fake_news_detection\n",
        "\n",
        "Link: https://huggingface.co/rematchka/Bert_fake_news_detection/upload/main\n"
      ],
      "metadata": {
        "id": "QDAW5XjQfpi-"
      }
    },
    {
      "cell_type": "markdown",
      "source": [
        "### Error Analysis"
      ],
      "metadata": {
        "id": "JDFEVdREf5QC"
      }
    },
    {
      "cell_type": "code",
      "source": [
        "### dataFrame containing misclassified Examples\n",
        "df_wrong_classification"
      ],
      "metadata": {
        "colab": {
          "base_uri": "https://localhost:8080/",
          "height": 1000
        },
        "id": "s2oiYvYlf1Vf",
        "outputId": "8c3157b4-6fc3-47b8-ffa0-abd5f143e205"
      },
      "execution_count": null,
      "outputs": [
        {
          "output_type": "execute_result",
          "data": {
            "text/plain": [
              "                                                   title  \\\n",
              "7737    Watch Reporter’s Face As He Recounts Trump Go...   \n",
              "8548   Yahoo caves in to NSA, FBI – and secretly moni...   \n",
              "7256    Florida GOP’s Anti-Abortion Law Struck Down I...   \n",
              "5611   Republicans Cruz, Trump spar over tabloid char...   \n",
              "4926    Trump: Dwayne Wade’s Cousin Was Murdered So A...   \n",
              "29858   REPORT: Russia Taunts And Tests United States...   \n",
              "31759   Reuters News Agency Declares War On Trump In ...   \n",
              "5823   BREAKING: MASSIVE CYBER ATTACK ON ALL FEDERAL ...   \n",
              "35309  THE LEFT LOSES AGAIN: Third Quarter Economic E...   \n",
              "36849   Hundreds Arrested At Democracy Spring Protest...   \n",
              "33047  Sanders wins Wyoming, prepares to take on Clin...   \n",
              "10036   FBI Joins Investigation Of Michigan’s Governo...   \n",
              "11827  REPORT: ROBERT MUELLER Targets Trump Son With ...   \n",
              "11345  Trump aide dismisses audio tape as Democrats r...   \n",
              "1628   OBAMA INCITING A SECOND COLD WAR? 35 Russian D...   \n",
              "26367  BREAKING: IRAN THROWS DOWN ULTIMATUM: …Your Mo...   \n",
              "18783       Kushner divests equity in major NYC property   \n",
              "42569  Commentary: Trump can't fight Islamic State wi...   \n",
              "13716   Trump Just Became First President In Modern H...   \n",
              "4249   Obama unveils wage insurance plan to spur job ...   \n",
              "37874   New Poll Has Clinton Beating Trump By Eleven ...   \n",
              "7876   CNN INTERVIEW TURNS INTO SCREAMING MATCH When ...   \n",
              "20131   Here’s How Much California Would Bring In Eve...   \n",
              "20171  THE LEFT LOSES AGAIN: Third Quarter Economic E...   \n",
              "5500    Obama Oversees Record Stock Market Results De...   \n",
              "13089  IS OBAMA’S RADICAL AGENDA Responsible For Stat...   \n",
              "33711  BREAKING: FORD CEO CITES TRUMP In Announcement...   \n",
              "35025  BRILLIANT NEWT GINGRICH: Here’s Why Trump Shou...   \n",
              "17795  POPE MEETS WITH ANGRY, JEWISH, PR0 LATE-TERM A...   \n",
              "36194  The DIRTY TRUTH About DACA Recipients…Where Th...   \n",
              "28012     Jenner uses women's restroom at Trump property   \n",
              "25115  BREAKING: CLEVELAND POLICE CHIEF Asks Ohio Gov...   \n",
              "19055  WHY REUTERS IS SAYING With “reasonable confide...   \n",
              "2220   Macedonia's parliament adopts 2018 budget, opp...   \n",
              "26806  Trump's defense chief visits UAE in first Midd...   \n",
              "6173   OBAMA FIGHTS TO KEEP RADICAL AGENDA ALIVE: Ask...   \n",
              "42870  ‘BRIEFCASES FULL OF MONEY’…Uranium One Underco...   \n",
              "13860   Obama Just Got A Little More Than Pissed At T...   \n",
              "40433   Democrats Go On The Attack Against Voter ID Laws   \n",
              "21340   BREAKING: It’s Real, Russia Stole Our Electio...   \n",
              "25262   Betsy Devos Just Put A For-Profit Credit Card...   \n",
              "40568  Commentary: How long before North Korea can nu...   \n",
              "11407   ANOTHER Poll Has Clinton Beating Trump By 15 ...   \n",
              "\n",
              "                                                    text          subject  \\\n",
              "7737   On his 100th day in office, a listless Donald ...             News   \n",
              "8548   21st Century Wire says This will rank as one o...      Middle-east   \n",
              "7256   Anti-abortion advocates were dealt another hea...             News   \n",
              "5611   WASHINGTON - Republican Ted Cruz on Friday den...     politicsNews   \n",
              "4926   Donald Trump went to new lows in his efforts t...             News   \n",
              "29858  Russia is testing how far Donald Trump will le...             News   \n",
              "31759  Donald Trump s treatment of journalists is so ...             News   \n",
              "5823    This data breach could affect every federal a...  Government News   \n",
              "35309  The news that the forecast for the third quart...        left-news   \n",
              "36849  Today, several  Democracy Spring  protesters w...             News   \n",
              "33047  WASHINGTON - Bernie Sanders won the U.S. presi...     politicsNews   \n",
              "10036  After months of people calling for the arrest ...             News   \n",
              "11827  Remember when Chelsea Clinton faced the same s...        left-news   \n",
              "11345  WASHINGTON, 2016 - A top aide to Donald Trump ...     politicsNews   \n",
              "1628   Reuters reports:The United States expelled 35 ...         politics   \n",
              "26367   The nuclear industry is a necessity, for ener...         politics   \n",
              "18783  NEW YORK (IFR) - Jared Kushner has divested hi...     politicsNews   \n",
              "42569  Over the course of the U.S. presidential campa...     politicsNews   \n",
              "13716  Donald Trump has been fundraising like crazy f...             News   \n",
              "4249   WASHINGTON - U.S. President Barack Obama on Sa...     politicsNews   \n",
              "37874  While the media continues to push the narrativ...             News   \n",
              "7876   (From CNN) New video captured hours before Mic...         politics   \n",
              "20131  Californians have a choice ahead of them. In N...             News   \n",
              "20171  The news that the forecast for the third quart...         politics   \n",
              "5500   For more than seven years now the right-wing l...             News   \n",
              "13089  President Barack Obama has called the fight ag...         politics   \n",
              "33711   The Government-Orchestrated Bankruptcies Of G...        left-news   \n",
              "35025  Wouldn t you know that the CIA director had wo...         politics   \n",
              "17795  As a Catholic I m offended by this Pope s poli...         politics   \n",
              "36194  Yesterday, a second U.S. judge on Tuesday bloc...         politics   \n",
              "28012  Caitlyn Jenner posted a video on Wednesday (Ap...     politicsNews   \n",
              "25115  Obama s war on America just got real These act...         politics   \n",
              "19055  After examining the data Reuters used to make ...  Government News   \n",
              "2220   SKOPJE - Macedonia s parliament has adopted a ...        worldnews   \n",
              "26806  ABU DHABI - U.S. President Donald Trump’s defe...     politicsNews   \n",
              "6173   This is a good reminder of how important it is...        left-news   \n",
              "42870  As reported earlier today, Reuters has named t...         politics   \n",
              "13860  When President Obama took office in January of...             News   \n",
              "40433  Virginia s Voter ID law is being challenged in...             News   \n",
              "21340  While we don t yet have the smoking gun that s...             News   \n",
              "25262  On Tuesday, Education Secretary Betsy Devos an...             News   \n",
              "40568  It’s the near future, and North Korea’s regime...     politicsNews   \n",
              "11407  Last week, RABA Research had Hillary Clinton b...             News   \n",
              "\n",
              "                     date  label  \n",
              "7737       April 28, 2017      0  \n",
              "8548      October 5, 2016      0  \n",
              "7256         July 2, 2016      0  \n",
              "5611      March 25, 2016       1  \n",
              "4926      August 27, 2016      0  \n",
              "29858   February 14, 2017      0  \n",
              "31759    February 1, 2017      0  \n",
              "5823          Jun 5, 2015      0  \n",
              "35309        Aug 19, 2017      0  \n",
              "36849      April 11, 2016      0  \n",
              "33047      April 9, 2016       1  \n",
              "10036    February 2, 2016      0  \n",
              "11827         Aug 4, 2017      0  \n",
              "11345       May 15, 2016       1  \n",
              "1628         Dec 29, 2016      0  \n",
              "26367         Apr 9, 2015      0  \n",
              "18783   January 31, 2017       1  \n",
              "42569   December 7, 2016       1  \n",
              "13716  September 19, 2017      0  \n",
              "4249    January 16, 2016       1  \n",
              "37874        June 3, 2016      0  \n",
              "7876         Mar 13, 2017      0  \n",
              "20131        July 3, 2016      0  \n",
              "20171        Aug 19, 2017      0  \n",
              "5500       April 20, 2016      0  \n",
              "13089        Dec 26, 2015      0  \n",
              "33711         Jan 3, 2017      0  \n",
              "35025        Jan 15, 2017      0  \n",
              "17795        Apr 16, 2016      0  \n",
              "36194           15-Feb-18      0  \n",
              "28012     April 28, 2016       1  \n",
              "25115        Jul 17, 2016      0  \n",
              "19055        Oct 17, 2015      0  \n",
              "2220   December 23, 2017       1  \n",
              "26806  February 18, 2017       1  \n",
              "6173          Jul 2, 2016      0  \n",
              "42870        Nov 17, 2017      0  \n",
              "13860       March 7, 2016      0  \n",
              "40433   February 22, 2016      0  \n",
              "21340      April 19, 2017      0  \n",
              "25262       June 21, 2017      0  \n",
              "40568       May 31, 2016       1  \n",
              "11407      August 5, 2016      0  "
            ],
            "text/html": [
              "\n",
              "  <div id=\"df-dd447e55-4aa4-4a56-bc35-5b84fdae8ec0\">\n",
              "    <div class=\"colab-df-container\">\n",
              "      <div>\n",
              "<style scoped>\n",
              "    .dataframe tbody tr th:only-of-type {\n",
              "        vertical-align: middle;\n",
              "    }\n",
              "\n",
              "    .dataframe tbody tr th {\n",
              "        vertical-align: top;\n",
              "    }\n",
              "\n",
              "    .dataframe thead th {\n",
              "        text-align: right;\n",
              "    }\n",
              "</style>\n",
              "<table border=\"1\" class=\"dataframe\">\n",
              "  <thead>\n",
              "    <tr style=\"text-align: right;\">\n",
              "      <th></th>\n",
              "      <th>title</th>\n",
              "      <th>text</th>\n",
              "      <th>subject</th>\n",
              "      <th>date</th>\n",
              "      <th>label</th>\n",
              "    </tr>\n",
              "  </thead>\n",
              "  <tbody>\n",
              "    <tr>\n",
              "      <th>7737</th>\n",
              "      <td>Watch Reporter’s Face As He Recounts Trump Go...</td>\n",
              "      <td>On his 100th day in office, a listless Donald ...</td>\n",
              "      <td>News</td>\n",
              "      <td>April 28, 2017</td>\n",
              "      <td>0</td>\n",
              "    </tr>\n",
              "    <tr>\n",
              "      <th>8548</th>\n",
              "      <td>Yahoo caves in to NSA, FBI – and secretly moni...</td>\n",
              "      <td>21st Century Wire says This will rank as one o...</td>\n",
              "      <td>Middle-east</td>\n",
              "      <td>October 5, 2016</td>\n",
              "      <td>0</td>\n",
              "    </tr>\n",
              "    <tr>\n",
              "      <th>7256</th>\n",
              "      <td>Florida GOP’s Anti-Abortion Law Struck Down I...</td>\n",
              "      <td>Anti-abortion advocates were dealt another hea...</td>\n",
              "      <td>News</td>\n",
              "      <td>July 2, 2016</td>\n",
              "      <td>0</td>\n",
              "    </tr>\n",
              "    <tr>\n",
              "      <th>5611</th>\n",
              "      <td>Republicans Cruz, Trump spar over tabloid char...</td>\n",
              "      <td>WASHINGTON - Republican Ted Cruz on Friday den...</td>\n",
              "      <td>politicsNews</td>\n",
              "      <td>March 25, 2016</td>\n",
              "      <td>1</td>\n",
              "    </tr>\n",
              "    <tr>\n",
              "      <th>4926</th>\n",
              "      <td>Trump: Dwayne Wade’s Cousin Was Murdered So A...</td>\n",
              "      <td>Donald Trump went to new lows in his efforts t...</td>\n",
              "      <td>News</td>\n",
              "      <td>August 27, 2016</td>\n",
              "      <td>0</td>\n",
              "    </tr>\n",
              "    <tr>\n",
              "      <th>29858</th>\n",
              "      <td>REPORT: Russia Taunts And Tests United States...</td>\n",
              "      <td>Russia is testing how far Donald Trump will le...</td>\n",
              "      <td>News</td>\n",
              "      <td>February 14, 2017</td>\n",
              "      <td>0</td>\n",
              "    </tr>\n",
              "    <tr>\n",
              "      <th>31759</th>\n",
              "      <td>Reuters News Agency Declares War On Trump In ...</td>\n",
              "      <td>Donald Trump s treatment of journalists is so ...</td>\n",
              "      <td>News</td>\n",
              "      <td>February 1, 2017</td>\n",
              "      <td>0</td>\n",
              "    </tr>\n",
              "    <tr>\n",
              "      <th>5823</th>\n",
              "      <td>BREAKING: MASSIVE CYBER ATTACK ON ALL FEDERAL ...</td>\n",
              "      <td>This data breach could affect every federal a...</td>\n",
              "      <td>Government News</td>\n",
              "      <td>Jun 5, 2015</td>\n",
              "      <td>0</td>\n",
              "    </tr>\n",
              "    <tr>\n",
              "      <th>35309</th>\n",
              "      <td>THE LEFT LOSES AGAIN: Third Quarter Economic E...</td>\n",
              "      <td>The news that the forecast for the third quart...</td>\n",
              "      <td>left-news</td>\n",
              "      <td>Aug 19, 2017</td>\n",
              "      <td>0</td>\n",
              "    </tr>\n",
              "    <tr>\n",
              "      <th>36849</th>\n",
              "      <td>Hundreds Arrested At Democracy Spring Protest...</td>\n",
              "      <td>Today, several  Democracy Spring  protesters w...</td>\n",
              "      <td>News</td>\n",
              "      <td>April 11, 2016</td>\n",
              "      <td>0</td>\n",
              "    </tr>\n",
              "    <tr>\n",
              "      <th>33047</th>\n",
              "      <td>Sanders wins Wyoming, prepares to take on Clin...</td>\n",
              "      <td>WASHINGTON - Bernie Sanders won the U.S. presi...</td>\n",
              "      <td>politicsNews</td>\n",
              "      <td>April 9, 2016</td>\n",
              "      <td>1</td>\n",
              "    </tr>\n",
              "    <tr>\n",
              "      <th>10036</th>\n",
              "      <td>FBI Joins Investigation Of Michigan’s Governo...</td>\n",
              "      <td>After months of people calling for the arrest ...</td>\n",
              "      <td>News</td>\n",
              "      <td>February 2, 2016</td>\n",
              "      <td>0</td>\n",
              "    </tr>\n",
              "    <tr>\n",
              "      <th>11827</th>\n",
              "      <td>REPORT: ROBERT MUELLER Targets Trump Son With ...</td>\n",
              "      <td>Remember when Chelsea Clinton faced the same s...</td>\n",
              "      <td>left-news</td>\n",
              "      <td>Aug 4, 2017</td>\n",
              "      <td>0</td>\n",
              "    </tr>\n",
              "    <tr>\n",
              "      <th>11345</th>\n",
              "      <td>Trump aide dismisses audio tape as Democrats r...</td>\n",
              "      <td>WASHINGTON, 2016 - A top aide to Donald Trump ...</td>\n",
              "      <td>politicsNews</td>\n",
              "      <td>May 15, 2016</td>\n",
              "      <td>1</td>\n",
              "    </tr>\n",
              "    <tr>\n",
              "      <th>1628</th>\n",
              "      <td>OBAMA INCITING A SECOND COLD WAR? 35 Russian D...</td>\n",
              "      <td>Reuters reports:The United States expelled 35 ...</td>\n",
              "      <td>politics</td>\n",
              "      <td>Dec 29, 2016</td>\n",
              "      <td>0</td>\n",
              "    </tr>\n",
              "    <tr>\n",
              "      <th>26367</th>\n",
              "      <td>BREAKING: IRAN THROWS DOWN ULTIMATUM: …Your Mo...</td>\n",
              "      <td>The nuclear industry is a necessity, for ener...</td>\n",
              "      <td>politics</td>\n",
              "      <td>Apr 9, 2015</td>\n",
              "      <td>0</td>\n",
              "    </tr>\n",
              "    <tr>\n",
              "      <th>18783</th>\n",
              "      <td>Kushner divests equity in major NYC property</td>\n",
              "      <td>NEW YORK (IFR) - Jared Kushner has divested hi...</td>\n",
              "      <td>politicsNews</td>\n",
              "      <td>January 31, 2017</td>\n",
              "      <td>1</td>\n",
              "    </tr>\n",
              "    <tr>\n",
              "      <th>42569</th>\n",
              "      <td>Commentary: Trump can't fight Islamic State wi...</td>\n",
              "      <td>Over the course of the U.S. presidential campa...</td>\n",
              "      <td>politicsNews</td>\n",
              "      <td>December 7, 2016</td>\n",
              "      <td>1</td>\n",
              "    </tr>\n",
              "    <tr>\n",
              "      <th>13716</th>\n",
              "      <td>Trump Just Became First President In Modern H...</td>\n",
              "      <td>Donald Trump has been fundraising like crazy f...</td>\n",
              "      <td>News</td>\n",
              "      <td>September 19, 2017</td>\n",
              "      <td>0</td>\n",
              "    </tr>\n",
              "    <tr>\n",
              "      <th>4249</th>\n",
              "      <td>Obama unveils wage insurance plan to spur job ...</td>\n",
              "      <td>WASHINGTON - U.S. President Barack Obama on Sa...</td>\n",
              "      <td>politicsNews</td>\n",
              "      <td>January 16, 2016</td>\n",
              "      <td>1</td>\n",
              "    </tr>\n",
              "    <tr>\n",
              "      <th>37874</th>\n",
              "      <td>New Poll Has Clinton Beating Trump By Eleven ...</td>\n",
              "      <td>While the media continues to push the narrativ...</td>\n",
              "      <td>News</td>\n",
              "      <td>June 3, 2016</td>\n",
              "      <td>0</td>\n",
              "    </tr>\n",
              "    <tr>\n",
              "      <th>7876</th>\n",
              "      <td>CNN INTERVIEW TURNS INTO SCREAMING MATCH When ...</td>\n",
              "      <td>(From CNN) New video captured hours before Mic...</td>\n",
              "      <td>politics</td>\n",
              "      <td>Mar 13, 2017</td>\n",
              "      <td>0</td>\n",
              "    </tr>\n",
              "    <tr>\n",
              "      <th>20131</th>\n",
              "      <td>Here’s How Much California Would Bring In Eve...</td>\n",
              "      <td>Californians have a choice ahead of them. In N...</td>\n",
              "      <td>News</td>\n",
              "      <td>July 3, 2016</td>\n",
              "      <td>0</td>\n",
              "    </tr>\n",
              "    <tr>\n",
              "      <th>20171</th>\n",
              "      <td>THE LEFT LOSES AGAIN: Third Quarter Economic E...</td>\n",
              "      <td>The news that the forecast for the third quart...</td>\n",
              "      <td>politics</td>\n",
              "      <td>Aug 19, 2017</td>\n",
              "      <td>0</td>\n",
              "    </tr>\n",
              "    <tr>\n",
              "      <th>5500</th>\n",
              "      <td>Obama Oversees Record Stock Market Results De...</td>\n",
              "      <td>For more than seven years now the right-wing l...</td>\n",
              "      <td>News</td>\n",
              "      <td>April 20, 2016</td>\n",
              "      <td>0</td>\n",
              "    </tr>\n",
              "    <tr>\n",
              "      <th>13089</th>\n",
              "      <td>IS OBAMA’S RADICAL AGENDA Responsible For Stat...</td>\n",
              "      <td>President Barack Obama has called the fight ag...</td>\n",
              "      <td>politics</td>\n",
              "      <td>Dec 26, 2015</td>\n",
              "      <td>0</td>\n",
              "    </tr>\n",
              "    <tr>\n",
              "      <th>33711</th>\n",
              "      <td>BREAKING: FORD CEO CITES TRUMP In Announcement...</td>\n",
              "      <td>The Government-Orchestrated Bankruptcies Of G...</td>\n",
              "      <td>left-news</td>\n",
              "      <td>Jan 3, 2017</td>\n",
              "      <td>0</td>\n",
              "    </tr>\n",
              "    <tr>\n",
              "      <th>35025</th>\n",
              "      <td>BRILLIANT NEWT GINGRICH: Here’s Why Trump Shou...</td>\n",
              "      <td>Wouldn t you know that the CIA director had wo...</td>\n",
              "      <td>politics</td>\n",
              "      <td>Jan 15, 2017</td>\n",
              "      <td>0</td>\n",
              "    </tr>\n",
              "    <tr>\n",
              "      <th>17795</th>\n",
              "      <td>POPE MEETS WITH ANGRY, JEWISH, PR0 LATE-TERM A...</td>\n",
              "      <td>As a Catholic I m offended by this Pope s poli...</td>\n",
              "      <td>politics</td>\n",
              "      <td>Apr 16, 2016</td>\n",
              "      <td>0</td>\n",
              "    </tr>\n",
              "    <tr>\n",
              "      <th>36194</th>\n",
              "      <td>The DIRTY TRUTH About DACA Recipients…Where Th...</td>\n",
              "      <td>Yesterday, a second U.S. judge on Tuesday bloc...</td>\n",
              "      <td>politics</td>\n",
              "      <td>15-Feb-18</td>\n",
              "      <td>0</td>\n",
              "    </tr>\n",
              "    <tr>\n",
              "      <th>28012</th>\n",
              "      <td>Jenner uses women's restroom at Trump property</td>\n",
              "      <td>Caitlyn Jenner posted a video on Wednesday (Ap...</td>\n",
              "      <td>politicsNews</td>\n",
              "      <td>April 28, 2016</td>\n",
              "      <td>1</td>\n",
              "    </tr>\n",
              "    <tr>\n",
              "      <th>25115</th>\n",
              "      <td>BREAKING: CLEVELAND POLICE CHIEF Asks Ohio Gov...</td>\n",
              "      <td>Obama s war on America just got real These act...</td>\n",
              "      <td>politics</td>\n",
              "      <td>Jul 17, 2016</td>\n",
              "      <td>0</td>\n",
              "    </tr>\n",
              "    <tr>\n",
              "      <th>19055</th>\n",
              "      <td>WHY REUTERS IS SAYING With “reasonable confide...</td>\n",
              "      <td>After examining the data Reuters used to make ...</td>\n",
              "      <td>Government News</td>\n",
              "      <td>Oct 17, 2015</td>\n",
              "      <td>0</td>\n",
              "    </tr>\n",
              "    <tr>\n",
              "      <th>2220</th>\n",
              "      <td>Macedonia's parliament adopts 2018 budget, opp...</td>\n",
              "      <td>SKOPJE - Macedonia s parliament has adopted a ...</td>\n",
              "      <td>worldnews</td>\n",
              "      <td>December 23, 2017</td>\n",
              "      <td>1</td>\n",
              "    </tr>\n",
              "    <tr>\n",
              "      <th>26806</th>\n",
              "      <td>Trump's defense chief visits UAE in first Midd...</td>\n",
              "      <td>ABU DHABI - U.S. President Donald Trump’s defe...</td>\n",
              "      <td>politicsNews</td>\n",
              "      <td>February 18, 2017</td>\n",
              "      <td>1</td>\n",
              "    </tr>\n",
              "    <tr>\n",
              "      <th>6173</th>\n",
              "      <td>OBAMA FIGHTS TO KEEP RADICAL AGENDA ALIVE: Ask...</td>\n",
              "      <td>This is a good reminder of how important it is...</td>\n",
              "      <td>left-news</td>\n",
              "      <td>Jul 2, 2016</td>\n",
              "      <td>0</td>\n",
              "    </tr>\n",
              "    <tr>\n",
              "      <th>42870</th>\n",
              "      <td>‘BRIEFCASES FULL OF MONEY’…Uranium One Underco...</td>\n",
              "      <td>As reported earlier today, Reuters has named t...</td>\n",
              "      <td>politics</td>\n",
              "      <td>Nov 17, 2017</td>\n",
              "      <td>0</td>\n",
              "    </tr>\n",
              "    <tr>\n",
              "      <th>13860</th>\n",
              "      <td>Obama Just Got A Little More Than Pissed At T...</td>\n",
              "      <td>When President Obama took office in January of...</td>\n",
              "      <td>News</td>\n",
              "      <td>March 7, 2016</td>\n",
              "      <td>0</td>\n",
              "    </tr>\n",
              "    <tr>\n",
              "      <th>40433</th>\n",
              "      <td>Democrats Go On The Attack Against Voter ID Laws</td>\n",
              "      <td>Virginia s Voter ID law is being challenged in...</td>\n",
              "      <td>News</td>\n",
              "      <td>February 22, 2016</td>\n",
              "      <td>0</td>\n",
              "    </tr>\n",
              "    <tr>\n",
              "      <th>21340</th>\n",
              "      <td>BREAKING: It’s Real, Russia Stole Our Electio...</td>\n",
              "      <td>While we don t yet have the smoking gun that s...</td>\n",
              "      <td>News</td>\n",
              "      <td>April 19, 2017</td>\n",
              "      <td>0</td>\n",
              "    </tr>\n",
              "    <tr>\n",
              "      <th>25262</th>\n",
              "      <td>Betsy Devos Just Put A For-Profit Credit Card...</td>\n",
              "      <td>On Tuesday, Education Secretary Betsy Devos an...</td>\n",
              "      <td>News</td>\n",
              "      <td>June 21, 2017</td>\n",
              "      <td>0</td>\n",
              "    </tr>\n",
              "    <tr>\n",
              "      <th>40568</th>\n",
              "      <td>Commentary: How long before North Korea can nu...</td>\n",
              "      <td>It’s the near future, and North Korea’s regime...</td>\n",
              "      <td>politicsNews</td>\n",
              "      <td>May 31, 2016</td>\n",
              "      <td>1</td>\n",
              "    </tr>\n",
              "    <tr>\n",
              "      <th>11407</th>\n",
              "      <td>ANOTHER Poll Has Clinton Beating Trump By 15 ...</td>\n",
              "      <td>Last week, RABA Research had Hillary Clinton b...</td>\n",
              "      <td>News</td>\n",
              "      <td>August 5, 2016</td>\n",
              "      <td>0</td>\n",
              "    </tr>\n",
              "  </tbody>\n",
              "</table>\n",
              "</div>\n",
              "      <button class=\"colab-df-convert\" onclick=\"convertToInteractive('df-dd447e55-4aa4-4a56-bc35-5b84fdae8ec0')\"\n",
              "              title=\"Convert this dataframe to an interactive table.\"\n",
              "              style=\"display:none;\">\n",
              "        \n",
              "  <svg xmlns=\"http://www.w3.org/2000/svg\" height=\"24px\"viewBox=\"0 0 24 24\"\n",
              "       width=\"24px\">\n",
              "    <path d=\"M0 0h24v24H0V0z\" fill=\"none\"/>\n",
              "    <path d=\"M18.56 5.44l.94 2.06.94-2.06 2.06-.94-2.06-.94-.94-2.06-.94 2.06-2.06.94zm-11 1L8.5 8.5l.94-2.06 2.06-.94-2.06-.94L8.5 2.5l-.94 2.06-2.06.94zm10 10l.94 2.06.94-2.06 2.06-.94-2.06-.94-.94-2.06-.94 2.06-2.06.94z\"/><path d=\"M17.41 7.96l-1.37-1.37c-.4-.4-.92-.59-1.43-.59-.52 0-1.04.2-1.43.59L10.3 9.45l-7.72 7.72c-.78.78-.78 2.05 0 2.83L4 21.41c.39.39.9.59 1.41.59.51 0 1.02-.2 1.41-.59l7.78-7.78 2.81-2.81c.8-.78.8-2.07 0-2.86zM5.41 20L4 18.59l7.72-7.72 1.47 1.35L5.41 20z\"/>\n",
              "  </svg>\n",
              "      </button>\n",
              "      \n",
              "  <style>\n",
              "    .colab-df-container {\n",
              "      display:flex;\n",
              "      flex-wrap:wrap;\n",
              "      gap: 12px;\n",
              "    }\n",
              "\n",
              "    .colab-df-convert {\n",
              "      background-color: #E8F0FE;\n",
              "      border: none;\n",
              "      border-radius: 50%;\n",
              "      cursor: pointer;\n",
              "      display: none;\n",
              "      fill: #1967D2;\n",
              "      height: 32px;\n",
              "      padding: 0 0 0 0;\n",
              "      width: 32px;\n",
              "    }\n",
              "\n",
              "    .colab-df-convert:hover {\n",
              "      background-color: #E2EBFA;\n",
              "      box-shadow: 0px 1px 2px rgba(60, 64, 67, 0.3), 0px 1px 3px 1px rgba(60, 64, 67, 0.15);\n",
              "      fill: #174EA6;\n",
              "    }\n",
              "\n",
              "    [theme=dark] .colab-df-convert {\n",
              "      background-color: #3B4455;\n",
              "      fill: #D2E3FC;\n",
              "    }\n",
              "\n",
              "    [theme=dark] .colab-df-convert:hover {\n",
              "      background-color: #434B5C;\n",
              "      box-shadow: 0px 1px 3px 1px rgba(0, 0, 0, 0.15);\n",
              "      filter: drop-shadow(0px 1px 2px rgba(0, 0, 0, 0.3));\n",
              "      fill: #FFFFFF;\n",
              "    }\n",
              "  </style>\n",
              "\n",
              "      <script>\n",
              "        const buttonEl =\n",
              "          document.querySelector('#df-dd447e55-4aa4-4a56-bc35-5b84fdae8ec0 button.colab-df-convert');\n",
              "        buttonEl.style.display =\n",
              "          google.colab.kernel.accessAllowed ? 'block' : 'none';\n",
              "\n",
              "        async function convertToInteractive(key) {\n",
              "          const element = document.querySelector('#df-dd447e55-4aa4-4a56-bc35-5b84fdae8ec0');\n",
              "          const dataTable =\n",
              "            await google.colab.kernel.invokeFunction('convertToInteractive',\n",
              "                                                     [key], {});\n",
              "          if (!dataTable) return;\n",
              "\n",
              "          const docLinkHtml = 'Like what you see? Visit the ' +\n",
              "            '<a target=\"_blank\" href=https://colab.research.google.com/notebooks/data_table.ipynb>data table notebook</a>'\n",
              "            + ' to learn more about interactive tables.';\n",
              "          element.innerHTML = '';\n",
              "          dataTable['output_type'] = 'display_data';\n",
              "          await google.colab.output.renderOutput(dataTable, element);\n",
              "          const docLink = document.createElement('div');\n",
              "          docLink.innerHTML = docLinkHtml;\n",
              "          element.appendChild(docLink);\n",
              "        }\n",
              "      </script>\n",
              "    </div>\n",
              "  </div>\n",
              "  "
            ]
          },
          "metadata": {},
          "execution_count": 49
        }
      ]
    },
    {
      "cell_type": "code",
      "source": [
        "### Lets Pick First Wrong example\n",
        "df_wrong_classification['text'].iloc[0]"
      ],
      "metadata": {
        "colab": {
          "base_uri": "https://localhost:8080/",
          "height": 122
        },
        "id": "V8HeyZ8dgE2j",
        "outputId": "d945ff05-40f3-4d44-deed-2665b834107f"
      },
      "execution_count": null,
      "outputs": [
        {
          "output_type": "execute_result",
          "data": {
            "text/plain": [
              "\"On his 100th day in office, a listless Donald Trump sat down with Reuters to talk about his accomplishments. As fate would have it, Trump had just been told that two servicemembers had been killed in an anti-ISIS raid in Afghanistan, his re-re-remade healthcare bill was dead on arrival, and his plans to build a wall were going up in flames. But he had other things on his mind. For Donald Trump, every day is November 8th, 2016.To the three reporters, Trump passed out a printed picture of the United States, with counties he won in the election colored in red.More than five months after his victory and two days shy of the 100-day mark of his presidency, the election is still on Trump s mind. Midway through a discussion about Chinese President Xi Jinping, the president paused to hand out copies of what he said were the latest figures from the 2016 electoral map. Here, you can take that, that s the final map of the numbers,  the Republican president said from his desk in the Oval Office, handing out maps of the United States with areas he won marked in red.  It s pretty good, right? The red is obviously us. Later he posed for photos, insisting on holding up the map. (Note: Trump s White House photographer, who formerly worked in the Bush White House, likes to take pictures of Trump from really far away. It s unclear exactly why.)So this happened today  pic.twitter.com/UqtgvoyIRj  SalenaZito (@SalenaZito) April 28, 2017here's a pic from reuters of Trump with the electoral maps he showed to reporters yesterday pic.twitter.com/1X3edpeJDQ  Gideon Resnick (@GideonResnick) April 28, 2017Reporter Jeff Mason recounted the surreal moment the President of the United States interrupted questions on North Korea and China to brag about a map of the election he had won more than 5 months earlier. His expressions cycle from disbelief to pity to humor and back to disbelief.CNN s Chris Cuomo asked the reporters the obvious question: Is Trump really so insecure that he still feels he has to prove that he won the election? Mason said it could be a lot of factors (all troubling from a mental health standpoint): I think that s a good question and it s hard for me to answer that. I think he just wanted to relish in the fact that this map, uh, looks good for him and he said  the red is obviously us  and the red are areas in the country that he won. So he s just very proud of it. And whether that s rooted in a sense that he still has to prove that he won or that he s upset that the media got it wrong in terms of the predictions ahead of time it s hard for me to say. Trump, a 70-year-old billionaire, craves the attention one might give a child for a project they made in art class. He may as well have asked the reporters to pin the map up on their refrigerator doors.Making it even more clear that Trump is suddenly feeling very small, he later admitted that being president is really hard, and it s not as fun as his old life. The fact that running the country wouldn t be as easy as being a semi-retired billionaire and reality tv show host was something that apparently never occurred to Trump prior to being elected. I loved my previous life. I had so many things going. This is more work than in my previous life. I thought it would be easier. At least he s got his map.Featured image via CNN\""
            ],
            "application/vnd.google.colaboratory.intrinsic+json": {
              "type": "string"
            }
          },
          "metadata": {},
          "execution_count": 59
        }
      ]
    },
    {
      "cell_type": "code",
      "source": [
        "### Lets Pick Second Wrong example\n",
        "df_wrong_classification['text'].iloc[1]\n"
      ],
      "metadata": {
        "colab": {
          "base_uri": "https://localhost:8080/",
          "height": 122
        },
        "id": "GTI5KzD3gPDk",
        "outputId": "e680c5bc-f15a-4ac8-f830-efe3b48788c7"
      },
      "execution_count": null,
      "outputs": [
        {
          "output_type": "execute_result",
          "data": {
            "text/plain": [
              "'21st Century Wire says This will rank as one of the most egregious miscarriages of consumer trust in US history. In a brief statement to Reuters, according to these Silicon Valley executives: Yahoo is a law-abiding company, and complies with the laws of the United States.  Actually, Yahoo is in breach of the law. The  laws  they think they are talking about do not allow for flipping a  dead switch  on the 4th Amendment and conducting mass surveillance on all US citizens.In reality, the US Constitution is meant to be the supreme law of the land and Yahoo just colluded with an out of control US federal government   to trash the 4th Amendment.So who is Marissa Mayer, the Yahoo CEO who willingly colluded behind closed doors with the NSA and the FBI to submit all of Yahoo s customer base to unwarranted surveillance? Why was this 37 year old neophyte allowed to walk into the top spot from Google with no real managerial experience, and put in charge of such a large corporation   and then given a $54 million golden parachute after this dark spying debacle? She has quickly amassed net worth of approximately $500 million   half a billion dollars.It sounds like she was definitely  hand-picked  for this particular job  SELL OUT: Yahoo CEO Marissa Mayer sold out her customer base to an out of control, data-hungry Federal government.The GuardianYahoo last year secretly built a custom software program to search all of its customers  incoming emails for specific information provided by US intelligence officials, sources have told Reuters.The company complied with a classified US government directive, scanning hundreds of millions of Yahoo Mail accounts at the behest of the National Security Agency (NSA) or FBI, according to two former employees and a third person who knew about the program.Some surveillance experts said this represents the first known case of a US internet company agreeing to a spy agency s demand by searching all arriving messages, as opposed to examining stored messages or scanning a small number of accounts in real time.It is not known what information intelligence officials were looking for, only that they wanted Yahoo to search for a set of characters. That could mean a phrase in an email or an attachment, said the sources.Reuters was unable to determine what data Yahoo may have handed over, if any, and whether intelligence officials had approached other email providers besides Yahoo with this kind of request.According to the two former employees, Yahoo CEO Marissa Mayer s decision to obey the directive troubled some senior executives and led to the June 2015 departure of the chief information security officer, Alex Stamos, who now heads security at Facebook.( ) Andrew Crocker, staff attorney with the Electronic Frontier Foundation, said that the use of the word  directive  to describe the program indicated that the request may have been ordered under the section 702 of the 2008 Fisa Amendments Act, which allows the government to target non-US citizens abroad for surveillance.Revelations by Edward Snowden about the Prism and Upstream programs   of which the Yahoo program looks like a hybrid, Crocker said   show that US citizens were also subject to mass surveillance. The fourth amendment and attendant privacy concerns are quite staggering,  Crocker said.  It sounds like they are scanning all emails, even inside the US   the fourth amendment protects that fully. It s hard to see how the government justifies requiring Yahoo to search emails like that; there is no warrant that could possibly justify scanning all emails Continue this story at The GuardianREAD MORE SCI-TECH NEWS AT: 21st Century Wire Sci-Tech Files '"
            ],
            "application/vnd.google.colaboratory.intrinsic+json": {
              "type": "string"
            }
          },
          "metadata": {},
          "execution_count": 60
        }
      ]
    },
    {
      "cell_type": "markdown",
      "source": [
        "### Please explain what you might do to improve your model's performance on these news articles in the future"
      ],
      "metadata": {
        "id": "yE0cmADnhaHI"
      }
    },
    {
      "cell_type": "markdown",
      "source": [
        "I am not sure but the model performance is so optimistic which is weird than in reality due to dataset bias, as by building a small classifier based on a topic or some certain words we could achieve high or even perfect accuracy, as indicated in section data analysis, which doesn't happen in the real world. So at this point, it's hard to investigate what's wrong with the model.\n",
        " \n",
        " What I believe is using another dataset as the test set to evaluate the model performance would be better or using another complete dataset for training and testing that doesn't contain that sort of bias in the current dataset.\n",
        " \n",
        " But there are some issues in model training that might impact performance, for instance, training was slow as improvements of loss between the first and second epoch is small which might be due to learning rate, optimizers, and schedular issues, No improvement at all in the third epoch. So I believe if we want to improve model performance with this dataset learning rate, an appropriate optimizer and schedular need to be investigated/adjusted.\n",
        " \n",
        "But if we want to have a perfect classification we could add title, date and topic input to the model or we could use topic or date only as input to the model. This will guarantee perfect performance.   \n",
        "Since any article with topic/subject name Politicsnews or worldnews of is always non-fake article and  anything from 2015 or 2018 is fake news\n",
        " \n",
        "\n"
      ],
      "metadata": {
        "id": "rUjsiPvIhcRP"
      }
    }
  ]
}